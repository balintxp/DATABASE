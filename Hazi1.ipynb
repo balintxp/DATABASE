{
    "metadata": {
        "kernelspec": {
            "name": "SQL",
            "display_name": "SQL",
            "language": "sql"
        },
        "language_info": {
            "name": "sql",
            "version": ""
        }
    },
    "nbformat_minor": 2,
    "nbformat": 4,
    "cells": [
        {
            "cell_type": "code",
            "source": [
                "SELECT \r\n",
                "    COUNT(*) AS 'Termékek tábla sorai',\r\n",
                "    \r\n",
                "    COUNT(LISTAAR) AS 'Listaár nem nulla számláló',\r\n",
                "    SUM(CASE WHEN LISTAAR IS NULL THEN 1 ELSE 0 END) AS 'Listaár nulla számláló',\r\n",
                "    MIN(LISTAAR) AS 'Listaár minimum',\r\n",
                "    MAX(LISTAAR) AS 'Listaár maximum',\r\n",
                "    AVG(LISTAAR) AS 'Listaár átlag',\r\n",
                "    STDEV(LISTAAR) AS 'Listaár szórás',\r\n",
                "\r\n",
                "    COUNT(KESZLET) AS 'Készlet nem nulla számláló',\r\n",
                "    SUM(CASE WHEN KESZLET IS NULL THEN 1 ELSE 0 END) AS 'Készlet nulla számláló',\r\n",
                "    MIN(KESZLET) AS 'Készlet minimum',\r\n",
                "    MAX(KESZLET) AS 'Készlet maximum',\r\n",
                "    AVG(KESZLET) AS 'Készlet átlag',\r\n",
                "\r\n",
                "    \r\n",
                "\r\n",
                "    COUNT(DISTINCT KAT_ID) AS 'Egyedi KAT_ID számláló',\r\n",
                "    SUM(CASE WHEN KAT_ID IS NULL THEN 1 ELSE 0 END) AS 'KAT_ID nulla számláló'\r\n",
                "\r\n",
                "FROM Termek;\r\n",
                ""
            ],
            "metadata": {
                "azdata_cell_guid": "7d95f2d7-a367-4437-a734-31cbddda02d9",
                "language": "sql"
            },
            "outputs": [
                {
                    "output_type": "display_data",
                    "data": {
                        "text/html": "(1 row affected)"
                    },
                    "metadata": {}
                },
                {
                    "output_type": "display_data",
                    "data": {
                        "text/html": "Total execution time: 00:00:00.040"
                    },
                    "metadata": {}
                },
                {
                    "output_type": "execute_result",
                    "metadata": {},
                    "execution_count": 11,
                    "data": {
                        "application/vnd.dataresource+json": {
                            "schema": {
                                "fields": [
                                    {
                                        "name": "Termékek tábla sorai"
                                    },
                                    {
                                        "name": "Listaár nem nulla számláló"
                                    },
                                    {
                                        "name": "Listaár nulla számláló"
                                    },
                                    {
                                        "name": "Listaár minimum"
                                    },
                                    {
                                        "name": "Listaár maximum"
                                    },
                                    {
                                        "name": "Listaár átlag"
                                    },
                                    {
                                        "name": "Listaár szórás"
                                    },
                                    {
                                        "name": "Készlet nem nulla számláló"
                                    },
                                    {
                                        "name": "Készlet nulla számláló"
                                    },
                                    {
                                        "name": "Készlet minimum"
                                    },
                                    {
                                        "name": "Készlet maximum"
                                    },
                                    {
                                        "name": "Készlet átlag"
                                    },
                                    {
                                        "name": "Egyedi KAT_ID számláló"
                                    },
                                    {
                                        "name": "KAT_ID nulla számláló"
                                    }
                                ]
                            },
                            "data": [
                                {
                                    "Termékek tábla sorai": "551",
                                    "Listaár nem nulla számláló": "551",
                                    "Listaár nulla számláló": "0",
                                    "Listaár minimum": "0",
                                    "Listaár maximum": "46000",
                                    "Listaár átlag": "786,2813067150635",
                                    "Listaár szórás": "3602,4811630060694",
                                    "Készlet nem nulla számláló": "551",
                                    "Készlet nulla számláló": "0",
                                    "Készlet minimum": "0",
                                    "Készlet maximum": "50000",
                                    "Készlet átlag": "1585,9909255898367",
                                    "Egyedi KAT_ID számláló": "143",
                                    "KAT_ID nulla számláló": "0"
                                }
                            ]
                        },
                        "text/html": [
                            "<table>",
                            "<tr><th>Termékek tábla sorai</th><th>Listaár nem nulla számláló</th><th>Listaár nulla számláló</th><th>Listaár minimum</th><th>Listaár maximum</th><th>Listaár átlag</th><th>Listaár szórás</th><th>Készlet nem nulla számláló</th><th>Készlet nulla számláló</th><th>Készlet minimum</th><th>Készlet maximum</th><th>Készlet átlag</th><th>Egyedi KAT_ID számláló</th><th>KAT_ID nulla számláló</th></tr>",
                            "<tr><td>551</td><td>551</td><td>0</td><td>0</td><td>46000</td><td>786,2813067150635</td><td>3602,4811630060694</td><td>551</td><td>0</td><td>0</td><td>50000</td><td>1585,9909255898367</td><td>143</td><td>0</td></tr>",
                            "</table>"
                        ]
                    }
                }
            ],
            "execution_count": 11
        },
        {
            "cell_type": "code",
            "source": [
                "SELECT PERCENTILE_CONT(0.5) WITHIN GROUP (ORDER BY LISTAAR) OVER () AS 'Listaár medián',\r\n",
                "       PERCENTILE_CONT(0.5) WITHIN GROUP (ORDER BY KESZLET) OVER ()  AS 'Készlet medián'\r\n",
                "FROM Termek"
            ],
            "metadata": {
                "language": "sql",
                "azdata_cell_guid": "a02c9325-e5c4-4052-aadf-5e67456ad990"
            },
            "outputs": [
                {
                    "output_type": "display_data",
                    "data": {
                        "text/html": "(551 rows affected)"
                    },
                    "metadata": {}
                },
                {
                    "output_type": "display_data",
                    "data": {
                        "text/html": "Total execution time: 00:00:00.098"
                    },
                    "metadata": {}
                },
                {
                    "output_type": "execute_result",
                    "metadata": {},
                    "execution_count": 10,
                    "data": {
                        "application/vnd.dataresource+json": {
                            "schema": {
                                "fields": [
                                    {
                                        "name": "Listaár medián"
                                    },
                                    {
                                        "name": "Készlet medián"
                                    }
                                ]
                            },
                            "data": [
                                {
                                    "Listaár medián": "103",
                                    "Készlet medián": "400"
                                },
                                {
                                    "Listaár medián": "103",
                                    "Készlet medián": "400"
                                },
                                {
                                    "Listaár medián": "103",
                                    "Készlet medián": "400"
                                },
                                {
                                    "Listaár medián": "103",
                                    "Készlet medián": "400"
                                },
                                {
                                    "Listaár medián": "103",
                                    "Készlet medián": "400"
                                },
                                {
                                    "Listaár medián": "103",
                                    "Készlet medián": "400"
                                },
                                {
                                    "Listaár medián": "103",
                                    "Készlet medián": "400"
                                },
                                {
                                    "Listaár medián": "103",
                                    "Készlet medián": "400"
                                },
                                {
                                    "Listaár medián": "103",
                                    "Készlet medián": "400"
                                },
                                {
                                    "Listaár medián": "103",
                                    "Készlet medián": "400"
                                },
                                {
                                    "Listaár medián": "103",
                                    "Készlet medián": "400"
                                },
                                {
                                    "Listaár medián": "103",
                                    "Készlet medián": "400"
                                },
                                {
                                    "Listaár medián": "103",
                                    "Készlet medián": "400"
                                },
                                {
                                    "Listaár medián": "103",
                                    "Készlet medián": "400"
                                },
                                {
                                    "Listaár medián": "103",
                                    "Készlet medián": "400"
                                },
                                {
                                    "Listaár medián": "103",
                                    "Készlet medián": "400"
                                },
                                {
                                    "Listaár medián": "103",
                                    "Készlet medián": "400"
                                },
                                {
                                    "Listaár medián": "103",
                                    "Készlet medián": "400"
                                },
                                {
                                    "Listaár medián": "103",
                                    "Készlet medián": "400"
                                },
                                {
                                    "Listaár medián": "103",
                                    "Készlet medián": "400"
                                },
                                {
                                    "Listaár medián": "103",
                                    "Készlet medián": "400"
                                },
                                {
                                    "Listaár medián": "103",
                                    "Készlet medián": "400"
                                },
                                {
                                    "Listaár medián": "103",
                                    "Készlet medián": "400"
                                },
                                {
                                    "Listaár medián": "103",
                                    "Készlet medián": "400"
                                },
                                {
                                    "Listaár medián": "103",
                                    "Készlet medián": "400"
                                },
                                {
                                    "Listaár medián": "103",
                                    "Készlet medián": "400"
                                },
                                {
                                    "Listaár medián": "103",
                                    "Készlet medián": "400"
                                },
                                {
                                    "Listaár medián": "103",
                                    "Készlet medián": "400"
                                },
                                {
                                    "Listaár medián": "103",
                                    "Készlet medián": "400"
                                },
                                {
                                    "Listaár medián": "103",
                                    "Készlet medián": "400"
                                },
                                {
                                    "Listaár medián": "103",
                                    "Készlet medián": "400"
                                },
                                {
                                    "Listaár medián": "103",
                                    "Készlet medián": "400"
                                },
                                {
                                    "Listaár medián": "103",
                                    "Készlet medián": "400"
                                },
                                {
                                    "Listaár medián": "103",
                                    "Készlet medián": "400"
                                },
                                {
                                    "Listaár medián": "103",
                                    "Készlet medián": "400"
                                },
                                {
                                    "Listaár medián": "103",
                                    "Készlet medián": "400"
                                },
                                {
                                    "Listaár medián": "103",
                                    "Készlet medián": "400"
                                },
                                {
                                    "Listaár medián": "103",
                                    "Készlet medián": "400"
                                },
                                {
                                    "Listaár medián": "103",
                                    "Készlet medián": "400"
                                },
                                {
                                    "Listaár medián": "103",
                                    "Készlet medián": "400"
                                },
                                {
                                    "Listaár medián": "103",
                                    "Készlet medián": "400"
                                },
                                {
                                    "Listaár medián": "103",
                                    "Készlet medián": "400"
                                },
                                {
                                    "Listaár medián": "103",
                                    "Készlet medián": "400"
                                },
                                {
                                    "Listaár medián": "103",
                                    "Készlet medián": "400"
                                },
                                {
                                    "Listaár medián": "103",
                                    "Készlet medián": "400"
                                },
                                {
                                    "Listaár medián": "103",
                                    "Készlet medián": "400"
                                },
                                {
                                    "Listaár medián": "103",
                                    "Készlet medián": "400"
                                },
                                {
                                    "Listaár medián": "103",
                                    "Készlet medián": "400"
                                },
                                {
                                    "Listaár medián": "103",
                                    "Készlet medián": "400"
                                },
                                {
                                    "Listaár medián": "103",
                                    "Készlet medián": "400"
                                },
                                {
                                    "Listaár medián": "103",
                                    "Készlet medián": "400"
                                },
                                {
                                    "Listaár medián": "103",
                                    "Készlet medián": "400"
                                },
                                {
                                    "Listaár medián": "103",
                                    "Készlet medián": "400"
                                },
                                {
                                    "Listaár medián": "103",
                                    "Készlet medián": "400"
                                },
                                {
                                    "Listaár medián": "103",
                                    "Készlet medián": "400"
                                },
                                {
                                    "Listaár medián": "103",
                                    "Készlet medián": "400"
                                },
                                {
                                    "Listaár medián": "103",
                                    "Készlet medián": "400"
                                },
                                {
                                    "Listaár medián": "103",
                                    "Készlet medián": "400"
                                },
                                {
                                    "Listaár medián": "103",
                                    "Készlet medián": "400"
                                },
                                {
                                    "Listaár medián": "103",
                                    "Készlet medián": "400"
                                },
                                {
                                    "Listaár medián": "103",
                                    "Készlet medián": "400"
                                },
                                {
                                    "Listaár medián": "103",
                                    "Készlet medián": "400"
                                },
                                {
                                    "Listaár medián": "103",
                                    "Készlet medián": "400"
                                },
                                {
                                    "Listaár medián": "103",
                                    "Készlet medián": "400"
                                },
                                {
                                    "Listaár medián": "103",
                                    "Készlet medián": "400"
                                },
                                {
                                    "Listaár medián": "103",
                                    "Készlet medián": "400"
                                },
                                {
                                    "Listaár medián": "103",
                                    "Készlet medián": "400"
                                },
                                {
                                    "Listaár medián": "103",
                                    "Készlet medián": "400"
                                },
                                {
                                    "Listaár medián": "103",
                                    "Készlet medián": "400"
                                },
                                {
                                    "Listaár medián": "103",
                                    "Készlet medián": "400"
                                },
                                {
                                    "Listaár medián": "103",
                                    "Készlet medián": "400"
                                },
                                {
                                    "Listaár medián": "103",
                                    "Készlet medián": "400"
                                },
                                {
                                    "Listaár medián": "103",
                                    "Készlet medián": "400"
                                },
                                {
                                    "Listaár medián": "103",
                                    "Készlet medián": "400"
                                },
                                {
                                    "Listaár medián": "103",
                                    "Készlet medián": "400"
                                },
                                {
                                    "Listaár medián": "103",
                                    "Készlet medián": "400"
                                },
                                {
                                    "Listaár medián": "103",
                                    "Készlet medián": "400"
                                },
                                {
                                    "Listaár medián": "103",
                                    "Készlet medián": "400"
                                },
                                {
                                    "Listaár medián": "103",
                                    "Készlet medián": "400"
                                },
                                {
                                    "Listaár medián": "103",
                                    "Készlet medián": "400"
                                },
                                {
                                    "Listaár medián": "103",
                                    "Készlet medián": "400"
                                },
                                {
                                    "Listaár medián": "103",
                                    "Készlet medián": "400"
                                },
                                {
                                    "Listaár medián": "103",
                                    "Készlet medián": "400"
                                },
                                {
                                    "Listaár medián": "103",
                                    "Készlet medián": "400"
                                },
                                {
                                    "Listaár medián": "103",
                                    "Készlet medián": "400"
                                },
                                {
                                    "Listaár medián": "103",
                                    "Készlet medián": "400"
                                },
                                {
                                    "Listaár medián": "103",
                                    "Készlet medián": "400"
                                },
                                {
                                    "Listaár medián": "103",
                                    "Készlet medián": "400"
                                },
                                {
                                    "Listaár medián": "103",
                                    "Készlet medián": "400"
                                },
                                {
                                    "Listaár medián": "103",
                                    "Készlet medián": "400"
                                },
                                {
                                    "Listaár medián": "103",
                                    "Készlet medián": "400"
                                },
                                {
                                    "Listaár medián": "103",
                                    "Készlet medián": "400"
                                },
                                {
                                    "Listaár medián": "103",
                                    "Készlet medián": "400"
                                },
                                {
                                    "Listaár medián": "103",
                                    "Készlet medián": "400"
                                },
                                {
                                    "Listaár medián": "103",
                                    "Készlet medián": "400"
                                },
                                {
                                    "Listaár medián": "103",
                                    "Készlet medián": "400"
                                },
                                {
                                    "Listaár medián": "103",
                                    "Készlet medián": "400"
                                },
                                {
                                    "Listaár medián": "103",
                                    "Készlet medián": "400"
                                },
                                {
                                    "Listaár medián": "103",
                                    "Készlet medián": "400"
                                },
                                {
                                    "Listaár medián": "103",
                                    "Készlet medián": "400"
                                },
                                {
                                    "Listaár medián": "103",
                                    "Készlet medián": "400"
                                },
                                {
                                    "Listaár medián": "103",
                                    "Készlet medián": "400"
                                },
                                {
                                    "Listaár medián": "103",
                                    "Készlet medián": "400"
                                },
                                {
                                    "Listaár medián": "103",
                                    "Készlet medián": "400"
                                },
                                {
                                    "Listaár medián": "103",
                                    "Készlet medián": "400"
                                },
                                {
                                    "Listaár medián": "103",
                                    "Készlet medián": "400"
                                },
                                {
                                    "Listaár medián": "103",
                                    "Készlet medián": "400"
                                },
                                {
                                    "Listaár medián": "103",
                                    "Készlet medián": "400"
                                },
                                {
                                    "Listaár medián": "103",
                                    "Készlet medián": "400"
                                },
                                {
                                    "Listaár medián": "103",
                                    "Készlet medián": "400"
                                },
                                {
                                    "Listaár medián": "103",
                                    "Készlet medián": "400"
                                },
                                {
                                    "Listaár medián": "103",
                                    "Készlet medián": "400"
                                },
                                {
                                    "Listaár medián": "103",
                                    "Készlet medián": "400"
                                },
                                {
                                    "Listaár medián": "103",
                                    "Készlet medián": "400"
                                },
                                {
                                    "Listaár medián": "103",
                                    "Készlet medián": "400"
                                },
                                {
                                    "Listaár medián": "103",
                                    "Készlet medián": "400"
                                },
                                {
                                    "Listaár medián": "103",
                                    "Készlet medián": "400"
                                },
                                {
                                    "Listaár medián": "103",
                                    "Készlet medián": "400"
                                },
                                {
                                    "Listaár medián": "103",
                                    "Készlet medián": "400"
                                },
                                {
                                    "Listaár medián": "103",
                                    "Készlet medián": "400"
                                },
                                {
                                    "Listaár medián": "103",
                                    "Készlet medián": "400"
                                },
                                {
                                    "Listaár medián": "103",
                                    "Készlet medián": "400"
                                },
                                {
                                    "Listaár medián": "103",
                                    "Készlet medián": "400"
                                },
                                {
                                    "Listaár medián": "103",
                                    "Készlet medián": "400"
                                },
                                {
                                    "Listaár medián": "103",
                                    "Készlet medián": "400"
                                },
                                {
                                    "Listaár medián": "103",
                                    "Készlet medián": "400"
                                },
                                {
                                    "Listaár medián": "103",
                                    "Készlet medián": "400"
                                },
                                {
                                    "Listaár medián": "103",
                                    "Készlet medián": "400"
                                },
                                {
                                    "Listaár medián": "103",
                                    "Készlet medián": "400"
                                },
                                {
                                    "Listaár medián": "103",
                                    "Készlet medián": "400"
                                },
                                {
                                    "Listaár medián": "103",
                                    "Készlet medián": "400"
                                },
                                {
                                    "Listaár medián": "103",
                                    "Készlet medián": "400"
                                },
                                {
                                    "Listaár medián": "103",
                                    "Készlet medián": "400"
                                },
                                {
                                    "Listaár medián": "103",
                                    "Készlet medián": "400"
                                },
                                {
                                    "Listaár medián": "103",
                                    "Készlet medián": "400"
                                },
                                {
                                    "Listaár medián": "103",
                                    "Készlet medián": "400"
                                },
                                {
                                    "Listaár medián": "103",
                                    "Készlet medián": "400"
                                },
                                {
                                    "Listaár medián": "103",
                                    "Készlet medián": "400"
                                },
                                {
                                    "Listaár medián": "103",
                                    "Készlet medián": "400"
                                },
                                {
                                    "Listaár medián": "103",
                                    "Készlet medián": "400"
                                },
                                {
                                    "Listaár medián": "103",
                                    "Készlet medián": "400"
                                },
                                {
                                    "Listaár medián": "103",
                                    "Készlet medián": "400"
                                },
                                {
                                    "Listaár medián": "103",
                                    "Készlet medián": "400"
                                },
                                {
                                    "Listaár medián": "103",
                                    "Készlet medián": "400"
                                },
                                {
                                    "Listaár medián": "103",
                                    "Készlet medián": "400"
                                },
                                {
                                    "Listaár medián": "103",
                                    "Készlet medián": "400"
                                },
                                {
                                    "Listaár medián": "103",
                                    "Készlet medián": "400"
                                },
                                {
                                    "Listaár medián": "103",
                                    "Készlet medián": "400"
                                },
                                {
                                    "Listaár medián": "103",
                                    "Készlet medián": "400"
                                },
                                {
                                    "Listaár medián": "103",
                                    "Készlet medián": "400"
                                },
                                {
                                    "Listaár medián": "103",
                                    "Készlet medián": "400"
                                },
                                {
                                    "Listaár medián": "103",
                                    "Készlet medián": "400"
                                },
                                {
                                    "Listaár medián": "103",
                                    "Készlet medián": "400"
                                },
                                {
                                    "Listaár medián": "103",
                                    "Készlet medián": "400"
                                },
                                {
                                    "Listaár medián": "103",
                                    "Készlet medián": "400"
                                },
                                {
                                    "Listaár medián": "103",
                                    "Készlet medián": "400"
                                },
                                {
                                    "Listaár medián": "103",
                                    "Készlet medián": "400"
                                },
                                {
                                    "Listaár medián": "103",
                                    "Készlet medián": "400"
                                },
                                {
                                    "Listaár medián": "103",
                                    "Készlet medián": "400"
                                },
                                {
                                    "Listaár medián": "103",
                                    "Készlet medián": "400"
                                },
                                {
                                    "Listaár medián": "103",
                                    "Készlet medián": "400"
                                },
                                {
                                    "Listaár medián": "103",
                                    "Készlet medián": "400"
                                },
                                {
                                    "Listaár medián": "103",
                                    "Készlet medián": "400"
                                },
                                {
                                    "Listaár medián": "103",
                                    "Készlet medián": "400"
                                },
                                {
                                    "Listaár medián": "103",
                                    "Készlet medián": "400"
                                },
                                {
                                    "Listaár medián": "103",
                                    "Készlet medián": "400"
                                },
                                {
                                    "Listaár medián": "103",
                                    "Készlet medián": "400"
                                },
                                {
                                    "Listaár medián": "103",
                                    "Készlet medián": "400"
                                },
                                {
                                    "Listaár medián": "103",
                                    "Készlet medián": "400"
                                },
                                {
                                    "Listaár medián": "103",
                                    "Készlet medián": "400"
                                },
                                {
                                    "Listaár medián": "103",
                                    "Készlet medián": "400"
                                },
                                {
                                    "Listaár medián": "103",
                                    "Készlet medián": "400"
                                },
                                {
                                    "Listaár medián": "103",
                                    "Készlet medián": "400"
                                },
                                {
                                    "Listaár medián": "103",
                                    "Készlet medián": "400"
                                },
                                {
                                    "Listaár medián": "103",
                                    "Készlet medián": "400"
                                },
                                {
                                    "Listaár medián": "103",
                                    "Készlet medián": "400"
                                },
                                {
                                    "Listaár medián": "103",
                                    "Készlet medián": "400"
                                },
                                {
                                    "Listaár medián": "103",
                                    "Készlet medián": "400"
                                },
                                {
                                    "Listaár medián": "103",
                                    "Készlet medián": "400"
                                },
                                {
                                    "Listaár medián": "103",
                                    "Készlet medián": "400"
                                },
                                {
                                    "Listaár medián": "103",
                                    "Készlet medián": "400"
                                },
                                {
                                    "Listaár medián": "103",
                                    "Készlet medián": "400"
                                },
                                {
                                    "Listaár medián": "103",
                                    "Készlet medián": "400"
                                },
                                {
                                    "Listaár medián": "103",
                                    "Készlet medián": "400"
                                },
                                {
                                    "Listaár medián": "103",
                                    "Készlet medián": "400"
                                },
                                {
                                    "Listaár medián": "103",
                                    "Készlet medián": "400"
                                },
                                {
                                    "Listaár medián": "103",
                                    "Készlet medián": "400"
                                },
                                {
                                    "Listaár medián": "103",
                                    "Készlet medián": "400"
                                },
                                {
                                    "Listaár medián": "103",
                                    "Készlet medián": "400"
                                },
                                {
                                    "Listaár medián": "103",
                                    "Készlet medián": "400"
                                },
                                {
                                    "Listaár medián": "103",
                                    "Készlet medián": "400"
                                },
                                {
                                    "Listaár medián": "103",
                                    "Készlet medián": "400"
                                },
                                {
                                    "Listaár medián": "103",
                                    "Készlet medián": "400"
                                },
                                {
                                    "Listaár medián": "103",
                                    "Készlet medián": "400"
                                },
                                {
                                    "Listaár medián": "103",
                                    "Készlet medián": "400"
                                },
                                {
                                    "Listaár medián": "103",
                                    "Készlet medián": "400"
                                },
                                {
                                    "Listaár medián": "103",
                                    "Készlet medián": "400"
                                },
                                {
                                    "Listaár medián": "103",
                                    "Készlet medián": "400"
                                },
                                {
                                    "Listaár medián": "103",
                                    "Készlet medián": "400"
                                },
                                {
                                    "Listaár medián": "103",
                                    "Készlet medián": "400"
                                },
                                {
                                    "Listaár medián": "103",
                                    "Készlet medián": "400"
                                },
                                {
                                    "Listaár medián": "103",
                                    "Készlet medián": "400"
                                },
                                {
                                    "Listaár medián": "103",
                                    "Készlet medián": "400"
                                },
                                {
                                    "Listaár medián": "103",
                                    "Készlet medián": "400"
                                },
                                {
                                    "Listaár medián": "103",
                                    "Készlet medián": "400"
                                },
                                {
                                    "Listaár medián": "103",
                                    "Készlet medián": "400"
                                },
                                {
                                    "Listaár medián": "103",
                                    "Készlet medián": "400"
                                },
                                {
                                    "Listaár medián": "103",
                                    "Készlet medián": "400"
                                },
                                {
                                    "Listaár medián": "103",
                                    "Készlet medián": "400"
                                },
                                {
                                    "Listaár medián": "103",
                                    "Készlet medián": "400"
                                },
                                {
                                    "Listaár medián": "103",
                                    "Készlet medián": "400"
                                },
                                {
                                    "Listaár medián": "103",
                                    "Készlet medián": "400"
                                },
                                {
                                    "Listaár medián": "103",
                                    "Készlet medián": "400"
                                },
                                {
                                    "Listaár medián": "103",
                                    "Készlet medián": "400"
                                },
                                {
                                    "Listaár medián": "103",
                                    "Készlet medián": "400"
                                },
                                {
                                    "Listaár medián": "103",
                                    "Készlet medián": "400"
                                },
                                {
                                    "Listaár medián": "103",
                                    "Készlet medián": "400"
                                },
                                {
                                    "Listaár medián": "103",
                                    "Készlet medián": "400"
                                },
                                {
                                    "Listaár medián": "103",
                                    "Készlet medián": "400"
                                },
                                {
                                    "Listaár medián": "103",
                                    "Készlet medián": "400"
                                },
                                {
                                    "Listaár medián": "103",
                                    "Készlet medián": "400"
                                },
                                {
                                    "Listaár medián": "103",
                                    "Készlet medián": "400"
                                },
                                {
                                    "Listaár medián": "103",
                                    "Készlet medián": "400"
                                },
                                {
                                    "Listaár medián": "103",
                                    "Készlet medián": "400"
                                },
                                {
                                    "Listaár medián": "103",
                                    "Készlet medián": "400"
                                },
                                {
                                    "Listaár medián": "103",
                                    "Készlet medián": "400"
                                },
                                {
                                    "Listaár medián": "103",
                                    "Készlet medián": "400"
                                },
                                {
                                    "Listaár medián": "103",
                                    "Készlet medián": "400"
                                },
                                {
                                    "Listaár medián": "103",
                                    "Készlet medián": "400"
                                },
                                {
                                    "Listaár medián": "103",
                                    "Készlet medián": "400"
                                },
                                {
                                    "Listaár medián": "103",
                                    "Készlet medián": "400"
                                },
                                {
                                    "Listaár medián": "103",
                                    "Készlet medián": "400"
                                },
                                {
                                    "Listaár medián": "103",
                                    "Készlet medián": "400"
                                },
                                {
                                    "Listaár medián": "103",
                                    "Készlet medián": "400"
                                },
                                {
                                    "Listaár medián": "103",
                                    "Készlet medián": "400"
                                },
                                {
                                    "Listaár medián": "103",
                                    "Készlet medián": "400"
                                },
                                {
                                    "Listaár medián": "103",
                                    "Készlet medián": "400"
                                },
                                {
                                    "Listaár medián": "103",
                                    "Készlet medián": "400"
                                },
                                {
                                    "Listaár medián": "103",
                                    "Készlet medián": "400"
                                },
                                {
                                    "Listaár medián": "103",
                                    "Készlet medián": "400"
                                },
                                {
                                    "Listaár medián": "103",
                                    "Készlet medián": "400"
                                },
                                {
                                    "Listaár medián": "103",
                                    "Készlet medián": "400"
                                },
                                {
                                    "Listaár medián": "103",
                                    "Készlet medián": "400"
                                },
                                {
                                    "Listaár medián": "103",
                                    "Készlet medián": "400"
                                },
                                {
                                    "Listaár medián": "103",
                                    "Készlet medián": "400"
                                },
                                {
                                    "Listaár medián": "103",
                                    "Készlet medián": "400"
                                },
                                {
                                    "Listaár medián": "103",
                                    "Készlet medián": "400"
                                },
                                {
                                    "Listaár medián": "103",
                                    "Készlet medián": "400"
                                },
                                {
                                    "Listaár medián": "103",
                                    "Készlet medián": "400"
                                },
                                {
                                    "Listaár medián": "103",
                                    "Készlet medián": "400"
                                },
                                {
                                    "Listaár medián": "103",
                                    "Készlet medián": "400"
                                },
                                {
                                    "Listaár medián": "103",
                                    "Készlet medián": "400"
                                },
                                {
                                    "Listaár medián": "103",
                                    "Készlet medián": "400"
                                },
                                {
                                    "Listaár medián": "103",
                                    "Készlet medián": "400"
                                },
                                {
                                    "Listaár medián": "103",
                                    "Készlet medián": "400"
                                },
                                {
                                    "Listaár medián": "103",
                                    "Készlet medián": "400"
                                },
                                {
                                    "Listaár medián": "103",
                                    "Készlet medián": "400"
                                },
                                {
                                    "Listaár medián": "103",
                                    "Készlet medián": "400"
                                },
                                {
                                    "Listaár medián": "103",
                                    "Készlet medián": "400"
                                },
                                {
                                    "Listaár medián": "103",
                                    "Készlet medián": "400"
                                },
                                {
                                    "Listaár medián": "103",
                                    "Készlet medián": "400"
                                },
                                {
                                    "Listaár medián": "103",
                                    "Készlet medián": "400"
                                },
                                {
                                    "Listaár medián": "103",
                                    "Készlet medián": "400"
                                },
                                {
                                    "Listaár medián": "103",
                                    "Készlet medián": "400"
                                },
                                {
                                    "Listaár medián": "103",
                                    "Készlet medián": "400"
                                },
                                {
                                    "Listaár medián": "103",
                                    "Készlet medián": "400"
                                },
                                {
                                    "Listaár medián": "103",
                                    "Készlet medián": "400"
                                },
                                {
                                    "Listaár medián": "103",
                                    "Készlet medián": "400"
                                },
                                {
                                    "Listaár medián": "103",
                                    "Készlet medián": "400"
                                },
                                {
                                    "Listaár medián": "103",
                                    "Készlet medián": "400"
                                },
                                {
                                    "Listaár medián": "103",
                                    "Készlet medián": "400"
                                },
                                {
                                    "Listaár medián": "103",
                                    "Készlet medián": "400"
                                },
                                {
                                    "Listaár medián": "103",
                                    "Készlet medián": "400"
                                },
                                {
                                    "Listaár medián": "103",
                                    "Készlet medián": "400"
                                },
                                {
                                    "Listaár medián": "103",
                                    "Készlet medián": "400"
                                },
                                {
                                    "Listaár medián": "103",
                                    "Készlet medián": "400"
                                },
                                {
                                    "Listaár medián": "103",
                                    "Készlet medián": "400"
                                },
                                {
                                    "Listaár medián": "103",
                                    "Készlet medián": "400"
                                },
                                {
                                    "Listaár medián": "103",
                                    "Készlet medián": "400"
                                },
                                {
                                    "Listaár medián": "103",
                                    "Készlet medián": "400"
                                },
                                {
                                    "Listaár medián": "103",
                                    "Készlet medián": "400"
                                },
                                {
                                    "Listaár medián": "103",
                                    "Készlet medián": "400"
                                },
                                {
                                    "Listaár medián": "103",
                                    "Készlet medián": "400"
                                },
                                {
                                    "Listaár medián": "103",
                                    "Készlet medián": "400"
                                },
                                {
                                    "Listaár medián": "103",
                                    "Készlet medián": "400"
                                },
                                {
                                    "Listaár medián": "103",
                                    "Készlet medián": "400"
                                },
                                {
                                    "Listaár medián": "103",
                                    "Készlet medián": "400"
                                },
                                {
                                    "Listaár medián": "103",
                                    "Készlet medián": "400"
                                },
                                {
                                    "Listaár medián": "103",
                                    "Készlet medián": "400"
                                },
                                {
                                    "Listaár medián": "103",
                                    "Készlet medián": "400"
                                },
                                {
                                    "Listaár medián": "103",
                                    "Készlet medián": "400"
                                },
                                {
                                    "Listaár medián": "103",
                                    "Készlet medián": "400"
                                },
                                {
                                    "Listaár medián": "103",
                                    "Készlet medián": "400"
                                },
                                {
                                    "Listaár medián": "103",
                                    "Készlet medián": "400"
                                },
                                {
                                    "Listaár medián": "103",
                                    "Készlet medián": "400"
                                },
                                {
                                    "Listaár medián": "103",
                                    "Készlet medián": "400"
                                },
                                {
                                    "Listaár medián": "103",
                                    "Készlet medián": "400"
                                },
                                {
                                    "Listaár medián": "103",
                                    "Készlet medián": "400"
                                },
                                {
                                    "Listaár medián": "103",
                                    "Készlet medián": "400"
                                },
                                {
                                    "Listaár medián": "103",
                                    "Készlet medián": "400"
                                },
                                {
                                    "Listaár medián": "103",
                                    "Készlet medián": "400"
                                },
                                {
                                    "Listaár medián": "103",
                                    "Készlet medián": "400"
                                },
                                {
                                    "Listaár medián": "103",
                                    "Készlet medián": "400"
                                },
                                {
                                    "Listaár medián": "103",
                                    "Készlet medián": "400"
                                },
                                {
                                    "Listaár medián": "103",
                                    "Készlet medián": "400"
                                },
                                {
                                    "Listaár medián": "103",
                                    "Készlet medián": "400"
                                },
                                {
                                    "Listaár medián": "103",
                                    "Készlet medián": "400"
                                },
                                {
                                    "Listaár medián": "103",
                                    "Készlet medián": "400"
                                },
                                {
                                    "Listaár medián": "103",
                                    "Készlet medián": "400"
                                },
                                {
                                    "Listaár medián": "103",
                                    "Készlet medián": "400"
                                },
                                {
                                    "Listaár medián": "103",
                                    "Készlet medián": "400"
                                },
                                {
                                    "Listaár medián": "103",
                                    "Készlet medián": "400"
                                },
                                {
                                    "Listaár medián": "103",
                                    "Készlet medián": "400"
                                },
                                {
                                    "Listaár medián": "103",
                                    "Készlet medián": "400"
                                },
                                {
                                    "Listaár medián": "103",
                                    "Készlet medián": "400"
                                },
                                {
                                    "Listaár medián": "103",
                                    "Készlet medián": "400"
                                },
                                {
                                    "Listaár medián": "103",
                                    "Készlet medián": "400"
                                },
                                {
                                    "Listaár medián": "103",
                                    "Készlet medián": "400"
                                },
                                {
                                    "Listaár medián": "103",
                                    "Készlet medián": "400"
                                },
                                {
                                    "Listaár medián": "103",
                                    "Készlet medián": "400"
                                },
                                {
                                    "Listaár medián": "103",
                                    "Készlet medián": "400"
                                },
                                {
                                    "Listaár medián": "103",
                                    "Készlet medián": "400"
                                },
                                {
                                    "Listaár medián": "103",
                                    "Készlet medián": "400"
                                },
                                {
                                    "Listaár medián": "103",
                                    "Készlet medián": "400"
                                },
                                {
                                    "Listaár medián": "103",
                                    "Készlet medián": "400"
                                },
                                {
                                    "Listaár medián": "103",
                                    "Készlet medián": "400"
                                },
                                {
                                    "Listaár medián": "103",
                                    "Készlet medián": "400"
                                },
                                {
                                    "Listaár medián": "103",
                                    "Készlet medián": "400"
                                },
                                {
                                    "Listaár medián": "103",
                                    "Készlet medián": "400"
                                },
                                {
                                    "Listaár medián": "103",
                                    "Készlet medián": "400"
                                },
                                {
                                    "Listaár medián": "103",
                                    "Készlet medián": "400"
                                },
                                {
                                    "Listaár medián": "103",
                                    "Készlet medián": "400"
                                },
                                {
                                    "Listaár medián": "103",
                                    "Készlet medián": "400"
                                },
                                {
                                    "Listaár medián": "103",
                                    "Készlet medián": "400"
                                },
                                {
                                    "Listaár medián": "103",
                                    "Készlet medián": "400"
                                },
                                {
                                    "Listaár medián": "103",
                                    "Készlet medián": "400"
                                },
                                {
                                    "Listaár medián": "103",
                                    "Készlet medián": "400"
                                },
                                {
                                    "Listaár medián": "103",
                                    "Készlet medián": "400"
                                },
                                {
                                    "Listaár medián": "103",
                                    "Készlet medián": "400"
                                },
                                {
                                    "Listaár medián": "103",
                                    "Készlet medián": "400"
                                },
                                {
                                    "Listaár medián": "103",
                                    "Készlet medián": "400"
                                },
                                {
                                    "Listaár medián": "103",
                                    "Készlet medián": "400"
                                },
                                {
                                    "Listaár medián": "103",
                                    "Készlet medián": "400"
                                },
                                {
                                    "Listaár medián": "103",
                                    "Készlet medián": "400"
                                },
                                {
                                    "Listaár medián": "103",
                                    "Készlet medián": "400"
                                },
                                {
                                    "Listaár medián": "103",
                                    "Készlet medián": "400"
                                },
                                {
                                    "Listaár medián": "103",
                                    "Készlet medián": "400"
                                },
                                {
                                    "Listaár medián": "103",
                                    "Készlet medián": "400"
                                },
                                {
                                    "Listaár medián": "103",
                                    "Készlet medián": "400"
                                },
                                {
                                    "Listaár medián": "103",
                                    "Készlet medián": "400"
                                },
                                {
                                    "Listaár medián": "103",
                                    "Készlet medián": "400"
                                },
                                {
                                    "Listaár medián": "103",
                                    "Készlet medián": "400"
                                },
                                {
                                    "Listaár medián": "103",
                                    "Készlet medián": "400"
                                },
                                {
                                    "Listaár medián": "103",
                                    "Készlet medián": "400"
                                },
                                {
                                    "Listaár medián": "103",
                                    "Készlet medián": "400"
                                },
                                {
                                    "Listaár medián": "103",
                                    "Készlet medián": "400"
                                },
                                {
                                    "Listaár medián": "103",
                                    "Készlet medián": "400"
                                },
                                {
                                    "Listaár medián": "103",
                                    "Készlet medián": "400"
                                },
                                {
                                    "Listaár medián": "103",
                                    "Készlet medián": "400"
                                },
                                {
                                    "Listaár medián": "103",
                                    "Készlet medián": "400"
                                },
                                {
                                    "Listaár medián": "103",
                                    "Készlet medián": "400"
                                },
                                {
                                    "Listaár medián": "103",
                                    "Készlet medián": "400"
                                },
                                {
                                    "Listaár medián": "103",
                                    "Készlet medián": "400"
                                },
                                {
                                    "Listaár medián": "103",
                                    "Készlet medián": "400"
                                },
                                {
                                    "Listaár medián": "103",
                                    "Készlet medián": "400"
                                },
                                {
                                    "Listaár medián": "103",
                                    "Készlet medián": "400"
                                },
                                {
                                    "Listaár medián": "103",
                                    "Készlet medián": "400"
                                },
                                {
                                    "Listaár medián": "103",
                                    "Készlet medián": "400"
                                },
                                {
                                    "Listaár medián": "103",
                                    "Készlet medián": "400"
                                },
                                {
                                    "Listaár medián": "103",
                                    "Készlet medián": "400"
                                },
                                {
                                    "Listaár medián": "103",
                                    "Készlet medián": "400"
                                },
                                {
                                    "Listaár medián": "103",
                                    "Készlet medián": "400"
                                },
                                {
                                    "Listaár medián": "103",
                                    "Készlet medián": "400"
                                },
                                {
                                    "Listaár medián": "103",
                                    "Készlet medián": "400"
                                },
                                {
                                    "Listaár medián": "103",
                                    "Készlet medián": "400"
                                },
                                {
                                    "Listaár medián": "103",
                                    "Készlet medián": "400"
                                },
                                {
                                    "Listaár medián": "103",
                                    "Készlet medián": "400"
                                },
                                {
                                    "Listaár medián": "103",
                                    "Készlet medián": "400"
                                },
                                {
                                    "Listaár medián": "103",
                                    "Készlet medián": "400"
                                },
                                {
                                    "Listaár medián": "103",
                                    "Készlet medián": "400"
                                },
                                {
                                    "Listaár medián": "103",
                                    "Készlet medián": "400"
                                },
                                {
                                    "Listaár medián": "103",
                                    "Készlet medián": "400"
                                },
                                {
                                    "Listaár medián": "103",
                                    "Készlet medián": "400"
                                },
                                {
                                    "Listaár medián": "103",
                                    "Készlet medián": "400"
                                },
                                {
                                    "Listaár medián": "103",
                                    "Készlet medián": "400"
                                },
                                {
                                    "Listaár medián": "103",
                                    "Készlet medián": "400"
                                },
                                {
                                    "Listaár medián": "103",
                                    "Készlet medián": "400"
                                },
                                {
                                    "Listaár medián": "103",
                                    "Készlet medián": "400"
                                },
                                {
                                    "Listaár medián": "103",
                                    "Készlet medián": "400"
                                },
                                {
                                    "Listaár medián": "103",
                                    "Készlet medián": "400"
                                },
                                {
                                    "Listaár medián": "103",
                                    "Készlet medián": "400"
                                },
                                {
                                    "Listaár medián": "103",
                                    "Készlet medián": "400"
                                },
                                {
                                    "Listaár medián": "103",
                                    "Készlet medián": "400"
                                },
                                {
                                    "Listaár medián": "103",
                                    "Készlet medián": "400"
                                },
                                {
                                    "Listaár medián": "103",
                                    "Készlet medián": "400"
                                },
                                {
                                    "Listaár medián": "103",
                                    "Készlet medián": "400"
                                },
                                {
                                    "Listaár medián": "103",
                                    "Készlet medián": "400"
                                },
                                {
                                    "Listaár medián": "103",
                                    "Készlet medián": "400"
                                },
                                {
                                    "Listaár medián": "103",
                                    "Készlet medián": "400"
                                },
                                {
                                    "Listaár medián": "103",
                                    "Készlet medián": "400"
                                },
                                {
                                    "Listaár medián": "103",
                                    "Készlet medián": "400"
                                },
                                {
                                    "Listaár medián": "103",
                                    "Készlet medián": "400"
                                },
                                {
                                    "Listaár medián": "103",
                                    "Készlet medián": "400"
                                },
                                {
                                    "Listaár medián": "103",
                                    "Készlet medián": "400"
                                },
                                {
                                    "Listaár medián": "103",
                                    "Készlet medián": "400"
                                },
                                {
                                    "Listaár medián": "103",
                                    "Készlet medián": "400"
                                },
                                {
                                    "Listaár medián": "103",
                                    "Készlet medián": "400"
                                },
                                {
                                    "Listaár medián": "103",
                                    "Készlet medián": "400"
                                },
                                {
                                    "Listaár medián": "103",
                                    "Készlet medián": "400"
                                },
                                {
                                    "Listaár medián": "103",
                                    "Készlet medián": "400"
                                },
                                {
                                    "Listaár medián": "103",
                                    "Készlet medián": "400"
                                },
                                {
                                    "Listaár medián": "103",
                                    "Készlet medián": "400"
                                },
                                {
                                    "Listaár medián": "103",
                                    "Készlet medián": "400"
                                },
                                {
                                    "Listaár medián": "103",
                                    "Készlet medián": "400"
                                },
                                {
                                    "Listaár medián": "103",
                                    "Készlet medián": "400"
                                },
                                {
                                    "Listaár medián": "103",
                                    "Készlet medián": "400"
                                },
                                {
                                    "Listaár medián": "103",
                                    "Készlet medián": "400"
                                },
                                {
                                    "Listaár medián": "103",
                                    "Készlet medián": "400"
                                },
                                {
                                    "Listaár medián": "103",
                                    "Készlet medián": "400"
                                },
                                {
                                    "Listaár medián": "103",
                                    "Készlet medián": "400"
                                },
                                {
                                    "Listaár medián": "103",
                                    "Készlet medián": "400"
                                },
                                {
                                    "Listaár medián": "103",
                                    "Készlet medián": "400"
                                },
                                {
                                    "Listaár medián": "103",
                                    "Készlet medián": "400"
                                },
                                {
                                    "Listaár medián": "103",
                                    "Készlet medián": "400"
                                },
                                {
                                    "Listaár medián": "103",
                                    "Készlet medián": "400"
                                },
                                {
                                    "Listaár medián": "103",
                                    "Készlet medián": "400"
                                },
                                {
                                    "Listaár medián": "103",
                                    "Készlet medián": "400"
                                },
                                {
                                    "Listaár medián": "103",
                                    "Készlet medián": "400"
                                },
                                {
                                    "Listaár medián": "103",
                                    "Készlet medián": "400"
                                },
                                {
                                    "Listaár medián": "103",
                                    "Készlet medián": "400"
                                },
                                {
                                    "Listaár medián": "103",
                                    "Készlet medián": "400"
                                },
                                {
                                    "Listaár medián": "103",
                                    "Készlet medián": "400"
                                },
                                {
                                    "Listaár medián": "103",
                                    "Készlet medián": "400"
                                },
                                {
                                    "Listaár medián": "103",
                                    "Készlet medián": "400"
                                },
                                {
                                    "Listaár medián": "103",
                                    "Készlet medián": "400"
                                },
                                {
                                    "Listaár medián": "103",
                                    "Készlet medián": "400"
                                },
                                {
                                    "Listaár medián": "103",
                                    "Készlet medián": "400"
                                },
                                {
                                    "Listaár medián": "103",
                                    "Készlet medián": "400"
                                },
                                {
                                    "Listaár medián": "103",
                                    "Készlet medián": "400"
                                },
                                {
                                    "Listaár medián": "103",
                                    "Készlet medián": "400"
                                },
                                {
                                    "Listaár medián": "103",
                                    "Készlet medián": "400"
                                },
                                {
                                    "Listaár medián": "103",
                                    "Készlet medián": "400"
                                },
                                {
                                    "Listaár medián": "103",
                                    "Készlet medián": "400"
                                },
                                {
                                    "Listaár medián": "103",
                                    "Készlet medián": "400"
                                },
                                {
                                    "Listaár medián": "103",
                                    "Készlet medián": "400"
                                },
                                {
                                    "Listaár medián": "103",
                                    "Készlet medián": "400"
                                },
                                {
                                    "Listaár medián": "103",
                                    "Készlet medián": "400"
                                },
                                {
                                    "Listaár medián": "103",
                                    "Készlet medián": "400"
                                },
                                {
                                    "Listaár medián": "103",
                                    "Készlet medián": "400"
                                },
                                {
                                    "Listaár medián": "103",
                                    "Készlet medián": "400"
                                },
                                {
                                    "Listaár medián": "103",
                                    "Készlet medián": "400"
                                },
                                {
                                    "Listaár medián": "103",
                                    "Készlet medián": "400"
                                },
                                {
                                    "Listaár medián": "103",
                                    "Készlet medián": "400"
                                },
                                {
                                    "Listaár medián": "103",
                                    "Készlet medián": "400"
                                },
                                {
                                    "Listaár medián": "103",
                                    "Készlet medián": "400"
                                },
                                {
                                    "Listaár medián": "103",
                                    "Készlet medián": "400"
                                },
                                {
                                    "Listaár medián": "103",
                                    "Készlet medián": "400"
                                },
                                {
                                    "Listaár medián": "103",
                                    "Készlet medián": "400"
                                },
                                {
                                    "Listaár medián": "103",
                                    "Készlet medián": "400"
                                },
                                {
                                    "Listaár medián": "103",
                                    "Készlet medián": "400"
                                },
                                {
                                    "Listaár medián": "103",
                                    "Készlet medián": "400"
                                },
                                {
                                    "Listaár medián": "103",
                                    "Készlet medián": "400"
                                },
                                {
                                    "Listaár medián": "103",
                                    "Készlet medián": "400"
                                },
                                {
                                    "Listaár medián": "103",
                                    "Készlet medián": "400"
                                },
                                {
                                    "Listaár medián": "103",
                                    "Készlet medián": "400"
                                },
                                {
                                    "Listaár medián": "103",
                                    "Készlet medián": "400"
                                },
                                {
                                    "Listaár medián": "103",
                                    "Készlet medián": "400"
                                },
                                {
                                    "Listaár medián": "103",
                                    "Készlet medián": "400"
                                },
                                {
                                    "Listaár medián": "103",
                                    "Készlet medián": "400"
                                },
                                {
                                    "Listaár medián": "103",
                                    "Készlet medián": "400"
                                },
                                {
                                    "Listaár medián": "103",
                                    "Készlet medián": "400"
                                },
                                {
                                    "Listaár medián": "103",
                                    "Készlet medián": "400"
                                },
                                {
                                    "Listaár medián": "103",
                                    "Készlet medián": "400"
                                },
                                {
                                    "Listaár medián": "103",
                                    "Készlet medián": "400"
                                },
                                {
                                    "Listaár medián": "103",
                                    "Készlet medián": "400"
                                },
                                {
                                    "Listaár medián": "103",
                                    "Készlet medián": "400"
                                },
                                {
                                    "Listaár medián": "103",
                                    "Készlet medián": "400"
                                },
                                {
                                    "Listaár medián": "103",
                                    "Készlet medián": "400"
                                },
                                {
                                    "Listaár medián": "103",
                                    "Készlet medián": "400"
                                },
                                {
                                    "Listaár medián": "103",
                                    "Készlet medián": "400"
                                },
                                {
                                    "Listaár medián": "103",
                                    "Készlet medián": "400"
                                },
                                {
                                    "Listaár medián": "103",
                                    "Készlet medián": "400"
                                },
                                {
                                    "Listaár medián": "103",
                                    "Készlet medián": "400"
                                },
                                {
                                    "Listaár medián": "103",
                                    "Készlet medián": "400"
                                },
                                {
                                    "Listaár medián": "103",
                                    "Készlet medián": "400"
                                },
                                {
                                    "Listaár medián": "103",
                                    "Készlet medián": "400"
                                },
                                {
                                    "Listaár medián": "103",
                                    "Készlet medián": "400"
                                },
                                {
                                    "Listaár medián": "103",
                                    "Készlet medián": "400"
                                },
                                {
                                    "Listaár medián": "103",
                                    "Készlet medián": "400"
                                },
                                {
                                    "Listaár medián": "103",
                                    "Készlet medián": "400"
                                },
                                {
                                    "Listaár medián": "103",
                                    "Készlet medián": "400"
                                },
                                {
                                    "Listaár medián": "103",
                                    "Készlet medián": "400"
                                },
                                {
                                    "Listaár medián": "103",
                                    "Készlet medián": "400"
                                },
                                {
                                    "Listaár medián": "103",
                                    "Készlet medián": "400"
                                },
                                {
                                    "Listaár medián": "103",
                                    "Készlet medián": "400"
                                },
                                {
                                    "Listaár medián": "103",
                                    "Készlet medián": "400"
                                },
                                {
                                    "Listaár medián": "103",
                                    "Készlet medián": "400"
                                },
                                {
                                    "Listaár medián": "103",
                                    "Készlet medián": "400"
                                },
                                {
                                    "Listaár medián": "103",
                                    "Készlet medián": "400"
                                },
                                {
                                    "Listaár medián": "103",
                                    "Készlet medián": "400"
                                },
                                {
                                    "Listaár medián": "103",
                                    "Készlet medián": "400"
                                },
                                {
                                    "Listaár medián": "103",
                                    "Készlet medián": "400"
                                },
                                {
                                    "Listaár medián": "103",
                                    "Készlet medián": "400"
                                },
                                {
                                    "Listaár medián": "103",
                                    "Készlet medián": "400"
                                },
                                {
                                    "Listaár medián": "103",
                                    "Készlet medián": "400"
                                },
                                {
                                    "Listaár medián": "103",
                                    "Készlet medián": "400"
                                },
                                {
                                    "Listaár medián": "103",
                                    "Készlet medián": "400"
                                },
                                {
                                    "Listaár medián": "103",
                                    "Készlet medián": "400"
                                },
                                {
                                    "Listaár medián": "103",
                                    "Készlet medián": "400"
                                },
                                {
                                    "Listaár medián": "103",
                                    "Készlet medián": "400"
                                },
                                {
                                    "Listaár medián": "103",
                                    "Készlet medián": "400"
                                },
                                {
                                    "Listaár medián": "103",
                                    "Készlet medián": "400"
                                },
                                {
                                    "Listaár medián": "103",
                                    "Készlet medián": "400"
                                },
                                {
                                    "Listaár medián": "103",
                                    "Készlet medián": "400"
                                },
                                {
                                    "Listaár medián": "103",
                                    "Készlet medián": "400"
                                },
                                {
                                    "Listaár medián": "103",
                                    "Készlet medián": "400"
                                },
                                {
                                    "Listaár medián": "103",
                                    "Készlet medián": "400"
                                },
                                {
                                    "Listaár medián": "103",
                                    "Készlet medián": "400"
                                },
                                {
                                    "Listaár medián": "103",
                                    "Készlet medián": "400"
                                },
                                {
                                    "Listaár medián": "103",
                                    "Készlet medián": "400"
                                },
                                {
                                    "Listaár medián": "103",
                                    "Készlet medián": "400"
                                },
                                {
                                    "Listaár medián": "103",
                                    "Készlet medián": "400"
                                },
                                {
                                    "Listaár medián": "103",
                                    "Készlet medián": "400"
                                },
                                {
                                    "Listaár medián": "103",
                                    "Készlet medián": "400"
                                },
                                {
                                    "Listaár medián": "103",
                                    "Készlet medián": "400"
                                },
                                {
                                    "Listaár medián": "103",
                                    "Készlet medián": "400"
                                },
                                {
                                    "Listaár medián": "103",
                                    "Készlet medián": "400"
                                },
                                {
                                    "Listaár medián": "103",
                                    "Készlet medián": "400"
                                },
                                {
                                    "Listaár medián": "103",
                                    "Készlet medián": "400"
                                },
                                {
                                    "Listaár medián": "103",
                                    "Készlet medián": "400"
                                },
                                {
                                    "Listaár medián": "103",
                                    "Készlet medián": "400"
                                },
                                {
                                    "Listaár medián": "103",
                                    "Készlet medián": "400"
                                },
                                {
                                    "Listaár medián": "103",
                                    "Készlet medián": "400"
                                },
                                {
                                    "Listaár medián": "103",
                                    "Készlet medián": "400"
                                },
                                {
                                    "Listaár medián": "103",
                                    "Készlet medián": "400"
                                },
                                {
                                    "Listaár medián": "103",
                                    "Készlet medián": "400"
                                },
                                {
                                    "Listaár medián": "103",
                                    "Készlet medián": "400"
                                },
                                {
                                    "Listaár medián": "103",
                                    "Készlet medián": "400"
                                },
                                {
                                    "Listaár medián": "103",
                                    "Készlet medián": "400"
                                },
                                {
                                    "Listaár medián": "103",
                                    "Készlet medián": "400"
                                },
                                {
                                    "Listaár medián": "103",
                                    "Készlet medián": "400"
                                },
                                {
                                    "Listaár medián": "103",
                                    "Készlet medián": "400"
                                },
                                {
                                    "Listaár medián": "103",
                                    "Készlet medián": "400"
                                },
                                {
                                    "Listaár medián": "103",
                                    "Készlet medián": "400"
                                },
                                {
                                    "Listaár medián": "103",
                                    "Készlet medián": "400"
                                },
                                {
                                    "Listaár medián": "103",
                                    "Készlet medián": "400"
                                },
                                {
                                    "Listaár medián": "103",
                                    "Készlet medián": "400"
                                },
                                {
                                    "Listaár medián": "103",
                                    "Készlet medián": "400"
                                },
                                {
                                    "Listaár medián": "103",
                                    "Készlet medián": "400"
                                },
                                {
                                    "Listaár medián": "103",
                                    "Készlet medián": "400"
                                },
                                {
                                    "Listaár medián": "103",
                                    "Készlet medián": "400"
                                }
                            ]
                        },
                        "text/html": [
                            "<table>",
                            "<tr><th>Listaár medián</th><th>Készlet medián</th></tr>",
                            "<tr><td>103</td><td>400</td></tr>",
                            "<tr><td>103</td><td>400</td></tr>",
                            "<tr><td>103</td><td>400</td></tr>",
                            "<tr><td>103</td><td>400</td></tr>",
                            "<tr><td>103</td><td>400</td></tr>",
                            "<tr><td>103</td><td>400</td></tr>",
                            "<tr><td>103</td><td>400</td></tr>",
                            "<tr><td>103</td><td>400</td></tr>",
                            "<tr><td>103</td><td>400</td></tr>",
                            "<tr><td>103</td><td>400</td></tr>",
                            "<tr><td>103</td><td>400</td></tr>",
                            "<tr><td>103</td><td>400</td></tr>",
                            "<tr><td>103</td><td>400</td></tr>",
                            "<tr><td>103</td><td>400</td></tr>",
                            "<tr><td>103</td><td>400</td></tr>",
                            "<tr><td>103</td><td>400</td></tr>",
                            "<tr><td>103</td><td>400</td></tr>",
                            "<tr><td>103</td><td>400</td></tr>",
                            "<tr><td>103</td><td>400</td></tr>",
                            "<tr><td>103</td><td>400</td></tr>",
                            "<tr><td>103</td><td>400</td></tr>",
                            "<tr><td>103</td><td>400</td></tr>",
                            "<tr><td>103</td><td>400</td></tr>",
                            "<tr><td>103</td><td>400</td></tr>",
                            "<tr><td>103</td><td>400</td></tr>",
                            "<tr><td>103</td><td>400</td></tr>",
                            "<tr><td>103</td><td>400</td></tr>",
                            "<tr><td>103</td><td>400</td></tr>",
                            "<tr><td>103</td><td>400</td></tr>",
                            "<tr><td>103</td><td>400</td></tr>",
                            "<tr><td>103</td><td>400</td></tr>",
                            "<tr><td>103</td><td>400</td></tr>",
                            "<tr><td>103</td><td>400</td></tr>",
                            "<tr><td>103</td><td>400</td></tr>",
                            "<tr><td>103</td><td>400</td></tr>",
                            "<tr><td>103</td><td>400</td></tr>",
                            "<tr><td>103</td><td>400</td></tr>",
                            "<tr><td>103</td><td>400</td></tr>",
                            "<tr><td>103</td><td>400</td></tr>",
                            "<tr><td>103</td><td>400</td></tr>",
                            "<tr><td>103</td><td>400</td></tr>",
                            "<tr><td>103</td><td>400</td></tr>",
                            "<tr><td>103</td><td>400</td></tr>",
                            "<tr><td>103</td><td>400</td></tr>",
                            "<tr><td>103</td><td>400</td></tr>",
                            "<tr><td>103</td><td>400</td></tr>",
                            "<tr><td>103</td><td>400</td></tr>",
                            "<tr><td>103</td><td>400</td></tr>",
                            "<tr><td>103</td><td>400</td></tr>",
                            "<tr><td>103</td><td>400</td></tr>",
                            "<tr><td>103</td><td>400</td></tr>",
                            "<tr><td>103</td><td>400</td></tr>",
                            "<tr><td>103</td><td>400</td></tr>",
                            "<tr><td>103</td><td>400</td></tr>",
                            "<tr><td>103</td><td>400</td></tr>",
                            "<tr><td>103</td><td>400</td></tr>",
                            "<tr><td>103</td><td>400</td></tr>",
                            "<tr><td>103</td><td>400</td></tr>",
                            "<tr><td>103</td><td>400</td></tr>",
                            "<tr><td>103</td><td>400</td></tr>",
                            "<tr><td>103</td><td>400</td></tr>",
                            "<tr><td>103</td><td>400</td></tr>",
                            "<tr><td>103</td><td>400</td></tr>",
                            "<tr><td>103</td><td>400</td></tr>",
                            "<tr><td>103</td><td>400</td></tr>",
                            "<tr><td>103</td><td>400</td></tr>",
                            "<tr><td>103</td><td>400</td></tr>",
                            "<tr><td>103</td><td>400</td></tr>",
                            "<tr><td>103</td><td>400</td></tr>",
                            "<tr><td>103</td><td>400</td></tr>",
                            "<tr><td>103</td><td>400</td></tr>",
                            "<tr><td>103</td><td>400</td></tr>",
                            "<tr><td>103</td><td>400</td></tr>",
                            "<tr><td>103</td><td>400</td></tr>",
                            "<tr><td>103</td><td>400</td></tr>",
                            "<tr><td>103</td><td>400</td></tr>",
                            "<tr><td>103</td><td>400</td></tr>",
                            "<tr><td>103</td><td>400</td></tr>",
                            "<tr><td>103</td><td>400</td></tr>",
                            "<tr><td>103</td><td>400</td></tr>",
                            "<tr><td>103</td><td>400</td></tr>",
                            "<tr><td>103</td><td>400</td></tr>",
                            "<tr><td>103</td><td>400</td></tr>",
                            "<tr><td>103</td><td>400</td></tr>",
                            "<tr><td>103</td><td>400</td></tr>",
                            "<tr><td>103</td><td>400</td></tr>",
                            "<tr><td>103</td><td>400</td></tr>",
                            "<tr><td>103</td><td>400</td></tr>",
                            "<tr><td>103</td><td>400</td></tr>",
                            "<tr><td>103</td><td>400</td></tr>",
                            "<tr><td>103</td><td>400</td></tr>",
                            "<tr><td>103</td><td>400</td></tr>",
                            "<tr><td>103</td><td>400</td></tr>",
                            "<tr><td>103</td><td>400</td></tr>",
                            "<tr><td>103</td><td>400</td></tr>",
                            "<tr><td>103</td><td>400</td></tr>",
                            "<tr><td>103</td><td>400</td></tr>",
                            "<tr><td>103</td><td>400</td></tr>",
                            "<tr><td>103</td><td>400</td></tr>",
                            "<tr><td>103</td><td>400</td></tr>",
                            "<tr><td>103</td><td>400</td></tr>",
                            "<tr><td>103</td><td>400</td></tr>",
                            "<tr><td>103</td><td>400</td></tr>",
                            "<tr><td>103</td><td>400</td></tr>",
                            "<tr><td>103</td><td>400</td></tr>",
                            "<tr><td>103</td><td>400</td></tr>",
                            "<tr><td>103</td><td>400</td></tr>",
                            "<tr><td>103</td><td>400</td></tr>",
                            "<tr><td>103</td><td>400</td></tr>",
                            "<tr><td>103</td><td>400</td></tr>",
                            "<tr><td>103</td><td>400</td></tr>",
                            "<tr><td>103</td><td>400</td></tr>",
                            "<tr><td>103</td><td>400</td></tr>",
                            "<tr><td>103</td><td>400</td></tr>",
                            "<tr><td>103</td><td>400</td></tr>",
                            "<tr><td>103</td><td>400</td></tr>",
                            "<tr><td>103</td><td>400</td></tr>",
                            "<tr><td>103</td><td>400</td></tr>",
                            "<tr><td>103</td><td>400</td></tr>",
                            "<tr><td>103</td><td>400</td></tr>",
                            "<tr><td>103</td><td>400</td></tr>",
                            "<tr><td>103</td><td>400</td></tr>",
                            "<tr><td>103</td><td>400</td></tr>",
                            "<tr><td>103</td><td>400</td></tr>",
                            "<tr><td>103</td><td>400</td></tr>",
                            "<tr><td>103</td><td>400</td></tr>",
                            "<tr><td>103</td><td>400</td></tr>",
                            "<tr><td>103</td><td>400</td></tr>",
                            "<tr><td>103</td><td>400</td></tr>",
                            "<tr><td>103</td><td>400</td></tr>",
                            "<tr><td>103</td><td>400</td></tr>",
                            "<tr><td>103</td><td>400</td></tr>",
                            "<tr><td>103</td><td>400</td></tr>",
                            "<tr><td>103</td><td>400</td></tr>",
                            "<tr><td>103</td><td>400</td></tr>",
                            "<tr><td>103</td><td>400</td></tr>",
                            "<tr><td>103</td><td>400</td></tr>",
                            "<tr><td>103</td><td>400</td></tr>",
                            "<tr><td>103</td><td>400</td></tr>",
                            "<tr><td>103</td><td>400</td></tr>",
                            "<tr><td>103</td><td>400</td></tr>",
                            "<tr><td>103</td><td>400</td></tr>",
                            "<tr><td>103</td><td>400</td></tr>",
                            "<tr><td>103</td><td>400</td></tr>",
                            "<tr><td>103</td><td>400</td></tr>",
                            "<tr><td>103</td><td>400</td></tr>",
                            "<tr><td>103</td><td>400</td></tr>",
                            "<tr><td>103</td><td>400</td></tr>",
                            "<tr><td>103</td><td>400</td></tr>",
                            "<tr><td>103</td><td>400</td></tr>",
                            "<tr><td>103</td><td>400</td></tr>",
                            "<tr><td>103</td><td>400</td></tr>",
                            "<tr><td>103</td><td>400</td></tr>",
                            "<tr><td>103</td><td>400</td></tr>",
                            "<tr><td>103</td><td>400</td></tr>",
                            "<tr><td>103</td><td>400</td></tr>",
                            "<tr><td>103</td><td>400</td></tr>",
                            "<tr><td>103</td><td>400</td></tr>",
                            "<tr><td>103</td><td>400</td></tr>",
                            "<tr><td>103</td><td>400</td></tr>",
                            "<tr><td>103</td><td>400</td></tr>",
                            "<tr><td>103</td><td>400</td></tr>",
                            "<tr><td>103</td><td>400</td></tr>",
                            "<tr><td>103</td><td>400</td></tr>",
                            "<tr><td>103</td><td>400</td></tr>",
                            "<tr><td>103</td><td>400</td></tr>",
                            "<tr><td>103</td><td>400</td></tr>",
                            "<tr><td>103</td><td>400</td></tr>",
                            "<tr><td>103</td><td>400</td></tr>",
                            "<tr><td>103</td><td>400</td></tr>",
                            "<tr><td>103</td><td>400</td></tr>",
                            "<tr><td>103</td><td>400</td></tr>",
                            "<tr><td>103</td><td>400</td></tr>",
                            "<tr><td>103</td><td>400</td></tr>",
                            "<tr><td>103</td><td>400</td></tr>",
                            "<tr><td>103</td><td>400</td></tr>",
                            "<tr><td>103</td><td>400</td></tr>",
                            "<tr><td>103</td><td>400</td></tr>",
                            "<tr><td>103</td><td>400</td></tr>",
                            "<tr><td>103</td><td>400</td></tr>",
                            "<tr><td>103</td><td>400</td></tr>",
                            "<tr><td>103</td><td>400</td></tr>",
                            "<tr><td>103</td><td>400</td></tr>",
                            "<tr><td>103</td><td>400</td></tr>",
                            "<tr><td>103</td><td>400</td></tr>",
                            "<tr><td>103</td><td>400</td></tr>",
                            "<tr><td>103</td><td>400</td></tr>",
                            "<tr><td>103</td><td>400</td></tr>",
                            "<tr><td>103</td><td>400</td></tr>",
                            "<tr><td>103</td><td>400</td></tr>",
                            "<tr><td>103</td><td>400</td></tr>",
                            "<tr><td>103</td><td>400</td></tr>",
                            "<tr><td>103</td><td>400</td></tr>",
                            "<tr><td>103</td><td>400</td></tr>",
                            "<tr><td>103</td><td>400</td></tr>",
                            "<tr><td>103</td><td>400</td></tr>",
                            "<tr><td>103</td><td>400</td></tr>",
                            "<tr><td>103</td><td>400</td></tr>",
                            "<tr><td>103</td><td>400</td></tr>",
                            "<tr><td>103</td><td>400</td></tr>",
                            "<tr><td>103</td><td>400</td></tr>",
                            "<tr><td>103</td><td>400</td></tr>",
                            "<tr><td>103</td><td>400</td></tr>",
                            "<tr><td>103</td><td>400</td></tr>",
                            "<tr><td>103</td><td>400</td></tr>",
                            "<tr><td>103</td><td>400</td></tr>",
                            "<tr><td>103</td><td>400</td></tr>",
                            "<tr><td>103</td><td>400</td></tr>",
                            "<tr><td>103</td><td>400</td></tr>",
                            "<tr><td>103</td><td>400</td></tr>",
                            "<tr><td>103</td><td>400</td></tr>",
                            "<tr><td>103</td><td>400</td></tr>",
                            "<tr><td>103</td><td>400</td></tr>",
                            "<tr><td>103</td><td>400</td></tr>",
                            "<tr><td>103</td><td>400</td></tr>",
                            "<tr><td>103</td><td>400</td></tr>",
                            "<tr><td>103</td><td>400</td></tr>",
                            "<tr><td>103</td><td>400</td></tr>",
                            "<tr><td>103</td><td>400</td></tr>",
                            "<tr><td>103</td><td>400</td></tr>",
                            "<tr><td>103</td><td>400</td></tr>",
                            "<tr><td>103</td><td>400</td></tr>",
                            "<tr><td>103</td><td>400</td></tr>",
                            "<tr><td>103</td><td>400</td></tr>",
                            "<tr><td>103</td><td>400</td></tr>",
                            "<tr><td>103</td><td>400</td></tr>",
                            "<tr><td>103</td><td>400</td></tr>",
                            "<tr><td>103</td><td>400</td></tr>",
                            "<tr><td>103</td><td>400</td></tr>",
                            "<tr><td>103</td><td>400</td></tr>",
                            "<tr><td>103</td><td>400</td></tr>",
                            "<tr><td>103</td><td>400</td></tr>",
                            "<tr><td>103</td><td>400</td></tr>",
                            "<tr><td>103</td><td>400</td></tr>",
                            "<tr><td>103</td><td>400</td></tr>",
                            "<tr><td>103</td><td>400</td></tr>",
                            "<tr><td>103</td><td>400</td></tr>",
                            "<tr><td>103</td><td>400</td></tr>",
                            "<tr><td>103</td><td>400</td></tr>",
                            "<tr><td>103</td><td>400</td></tr>",
                            "<tr><td>103</td><td>400</td></tr>",
                            "<tr><td>103</td><td>400</td></tr>",
                            "<tr><td>103</td><td>400</td></tr>",
                            "<tr><td>103</td><td>400</td></tr>",
                            "<tr><td>103</td><td>400</td></tr>",
                            "<tr><td>103</td><td>400</td></tr>",
                            "<tr><td>103</td><td>400</td></tr>",
                            "<tr><td>103</td><td>400</td></tr>",
                            "<tr><td>103</td><td>400</td></tr>",
                            "<tr><td>103</td><td>400</td></tr>",
                            "<tr><td>103</td><td>400</td></tr>",
                            "<tr><td>103</td><td>400</td></tr>",
                            "<tr><td>103</td><td>400</td></tr>",
                            "<tr><td>103</td><td>400</td></tr>",
                            "<tr><td>103</td><td>400</td></tr>",
                            "<tr><td>103</td><td>400</td></tr>",
                            "<tr><td>103</td><td>400</td></tr>",
                            "<tr><td>103</td><td>400</td></tr>",
                            "<tr><td>103</td><td>400</td></tr>",
                            "<tr><td>103</td><td>400</td></tr>",
                            "<tr><td>103</td><td>400</td></tr>",
                            "<tr><td>103</td><td>400</td></tr>",
                            "<tr><td>103</td><td>400</td></tr>",
                            "<tr><td>103</td><td>400</td></tr>",
                            "<tr><td>103</td><td>400</td></tr>",
                            "<tr><td>103</td><td>400</td></tr>",
                            "<tr><td>103</td><td>400</td></tr>",
                            "<tr><td>103</td><td>400</td></tr>",
                            "<tr><td>103</td><td>400</td></tr>",
                            "<tr><td>103</td><td>400</td></tr>",
                            "<tr><td>103</td><td>400</td></tr>",
                            "<tr><td>103</td><td>400</td></tr>",
                            "<tr><td>103</td><td>400</td></tr>",
                            "<tr><td>103</td><td>400</td></tr>",
                            "<tr><td>103</td><td>400</td></tr>",
                            "<tr><td>103</td><td>400</td></tr>",
                            "<tr><td>103</td><td>400</td></tr>",
                            "<tr><td>103</td><td>400</td></tr>",
                            "<tr><td>103</td><td>400</td></tr>",
                            "<tr><td>103</td><td>400</td></tr>",
                            "<tr><td>103</td><td>400</td></tr>",
                            "<tr><td>103</td><td>400</td></tr>",
                            "<tr><td>103</td><td>400</td></tr>",
                            "<tr><td>103</td><td>400</td></tr>",
                            "<tr><td>103</td><td>400</td></tr>",
                            "<tr><td>103</td><td>400</td></tr>",
                            "<tr><td>103</td><td>400</td></tr>",
                            "<tr><td>103</td><td>400</td></tr>",
                            "<tr><td>103</td><td>400</td></tr>",
                            "<tr><td>103</td><td>400</td></tr>",
                            "<tr><td>103</td><td>400</td></tr>",
                            "<tr><td>103</td><td>400</td></tr>",
                            "<tr><td>103</td><td>400</td></tr>",
                            "<tr><td>103</td><td>400</td></tr>",
                            "<tr><td>103</td><td>400</td></tr>",
                            "<tr><td>103</td><td>400</td></tr>",
                            "<tr><td>103</td><td>400</td></tr>",
                            "<tr><td>103</td><td>400</td></tr>",
                            "<tr><td>103</td><td>400</td></tr>",
                            "<tr><td>103</td><td>400</td></tr>",
                            "<tr><td>103</td><td>400</td></tr>",
                            "<tr><td>103</td><td>400</td></tr>",
                            "<tr><td>103</td><td>400</td></tr>",
                            "<tr><td>103</td><td>400</td></tr>",
                            "<tr><td>103</td><td>400</td></tr>",
                            "<tr><td>103</td><td>400</td></tr>",
                            "<tr><td>103</td><td>400</td></tr>",
                            "<tr><td>103</td><td>400</td></tr>",
                            "<tr><td>103</td><td>400</td></tr>",
                            "<tr><td>103</td><td>400</td></tr>",
                            "<tr><td>103</td><td>400</td></tr>",
                            "<tr><td>103</td><td>400</td></tr>",
                            "<tr><td>103</td><td>400</td></tr>",
                            "<tr><td>103</td><td>400</td></tr>",
                            "<tr><td>103</td><td>400</td></tr>",
                            "<tr><td>103</td><td>400</td></tr>",
                            "<tr><td>103</td><td>400</td></tr>",
                            "<tr><td>103</td><td>400</td></tr>",
                            "<tr><td>103</td><td>400</td></tr>",
                            "<tr><td>103</td><td>400</td></tr>",
                            "<tr><td>103</td><td>400</td></tr>",
                            "<tr><td>103</td><td>400</td></tr>",
                            "<tr><td>103</td><td>400</td></tr>",
                            "<tr><td>103</td><td>400</td></tr>",
                            "<tr><td>103</td><td>400</td></tr>",
                            "<tr><td>103</td><td>400</td></tr>",
                            "<tr><td>103</td><td>400</td></tr>",
                            "<tr><td>103</td><td>400</td></tr>",
                            "<tr><td>103</td><td>400</td></tr>",
                            "<tr><td>103</td><td>400</td></tr>",
                            "<tr><td>103</td><td>400</td></tr>",
                            "<tr><td>103</td><td>400</td></tr>",
                            "<tr><td>103</td><td>400</td></tr>",
                            "<tr><td>103</td><td>400</td></tr>",
                            "<tr><td>103</td><td>400</td></tr>",
                            "<tr><td>103</td><td>400</td></tr>",
                            "<tr><td>103</td><td>400</td></tr>",
                            "<tr><td>103</td><td>400</td></tr>",
                            "<tr><td>103</td><td>400</td></tr>",
                            "<tr><td>103</td><td>400</td></tr>",
                            "<tr><td>103</td><td>400</td></tr>",
                            "<tr><td>103</td><td>400</td></tr>",
                            "<tr><td>103</td><td>400</td></tr>",
                            "<tr><td>103</td><td>400</td></tr>",
                            "<tr><td>103</td><td>400</td></tr>",
                            "<tr><td>103</td><td>400</td></tr>",
                            "<tr><td>103</td><td>400</td></tr>",
                            "<tr><td>103</td><td>400</td></tr>",
                            "<tr><td>103</td><td>400</td></tr>",
                            "<tr><td>103</td><td>400</td></tr>",
                            "<tr><td>103</td><td>400</td></tr>",
                            "<tr><td>103</td><td>400</td></tr>",
                            "<tr><td>103</td><td>400</td></tr>",
                            "<tr><td>103</td><td>400</td></tr>",
                            "<tr><td>103</td><td>400</td></tr>",
                            "<tr><td>103</td><td>400</td></tr>",
                            "<tr><td>103</td><td>400</td></tr>",
                            "<tr><td>103</td><td>400</td></tr>",
                            "<tr><td>103</td><td>400</td></tr>",
                            "<tr><td>103</td><td>400</td></tr>",
                            "<tr><td>103</td><td>400</td></tr>",
                            "<tr><td>103</td><td>400</td></tr>",
                            "<tr><td>103</td><td>400</td></tr>",
                            "<tr><td>103</td><td>400</td></tr>",
                            "<tr><td>103</td><td>400</td></tr>",
                            "<tr><td>103</td><td>400</td></tr>",
                            "<tr><td>103</td><td>400</td></tr>",
                            "<tr><td>103</td><td>400</td></tr>",
                            "<tr><td>103</td><td>400</td></tr>",
                            "<tr><td>103</td><td>400</td></tr>",
                            "<tr><td>103</td><td>400</td></tr>",
                            "<tr><td>103</td><td>400</td></tr>",
                            "<tr><td>103</td><td>400</td></tr>",
                            "<tr><td>103</td><td>400</td></tr>",
                            "<tr><td>103</td><td>400</td></tr>",
                            "<tr><td>103</td><td>400</td></tr>",
                            "<tr><td>103</td><td>400</td></tr>",
                            "<tr><td>103</td><td>400</td></tr>",
                            "<tr><td>103</td><td>400</td></tr>",
                            "<tr><td>103</td><td>400</td></tr>",
                            "<tr><td>103</td><td>400</td></tr>",
                            "<tr><td>103</td><td>400</td></tr>",
                            "<tr><td>103</td><td>400</td></tr>",
                            "<tr><td>103</td><td>400</td></tr>",
                            "<tr><td>103</td><td>400</td></tr>",
                            "<tr><td>103</td><td>400</td></tr>",
                            "<tr><td>103</td><td>400</td></tr>",
                            "<tr><td>103</td><td>400</td></tr>",
                            "<tr><td>103</td><td>400</td></tr>",
                            "<tr><td>103</td><td>400</td></tr>",
                            "<tr><td>103</td><td>400</td></tr>",
                            "<tr><td>103</td><td>400</td></tr>",
                            "<tr><td>103</td><td>400</td></tr>",
                            "<tr><td>103</td><td>400</td></tr>",
                            "<tr><td>103</td><td>400</td></tr>",
                            "<tr><td>103</td><td>400</td></tr>",
                            "<tr><td>103</td><td>400</td></tr>",
                            "<tr><td>103</td><td>400</td></tr>",
                            "<tr><td>103</td><td>400</td></tr>",
                            "<tr><td>103</td><td>400</td></tr>",
                            "<tr><td>103</td><td>400</td></tr>",
                            "<tr><td>103</td><td>400</td></tr>",
                            "<tr><td>103</td><td>400</td></tr>",
                            "<tr><td>103</td><td>400</td></tr>",
                            "<tr><td>103</td><td>400</td></tr>",
                            "<tr><td>103</td><td>400</td></tr>",
                            "<tr><td>103</td><td>400</td></tr>",
                            "<tr><td>103</td><td>400</td></tr>",
                            "<tr><td>103</td><td>400</td></tr>",
                            "<tr><td>103</td><td>400</td></tr>",
                            "<tr><td>103</td><td>400</td></tr>",
                            "<tr><td>103</td><td>400</td></tr>",
                            "<tr><td>103</td><td>400</td></tr>",
                            "<tr><td>103</td><td>400</td></tr>",
                            "<tr><td>103</td><td>400</td></tr>",
                            "<tr><td>103</td><td>400</td></tr>",
                            "<tr><td>103</td><td>400</td></tr>",
                            "<tr><td>103</td><td>400</td></tr>",
                            "<tr><td>103</td><td>400</td></tr>",
                            "<tr><td>103</td><td>400</td></tr>",
                            "<tr><td>103</td><td>400</td></tr>",
                            "<tr><td>103</td><td>400</td></tr>",
                            "<tr><td>103</td><td>400</td></tr>",
                            "<tr><td>103</td><td>400</td></tr>",
                            "<tr><td>103</td><td>400</td></tr>",
                            "<tr><td>103</td><td>400</td></tr>",
                            "<tr><td>103</td><td>400</td></tr>",
                            "<tr><td>103</td><td>400</td></tr>",
                            "<tr><td>103</td><td>400</td></tr>",
                            "<tr><td>103</td><td>400</td></tr>",
                            "<tr><td>103</td><td>400</td></tr>",
                            "<tr><td>103</td><td>400</td></tr>",
                            "<tr><td>103</td><td>400</td></tr>",
                            "<tr><td>103</td><td>400</td></tr>",
                            "<tr><td>103</td><td>400</td></tr>",
                            "<tr><td>103</td><td>400</td></tr>",
                            "<tr><td>103</td><td>400</td></tr>",
                            "<tr><td>103</td><td>400</td></tr>",
                            "<tr><td>103</td><td>400</td></tr>",
                            "<tr><td>103</td><td>400</td></tr>",
                            "<tr><td>103</td><td>400</td></tr>",
                            "<tr><td>103</td><td>400</td></tr>",
                            "<tr><td>103</td><td>400</td></tr>",
                            "<tr><td>103</td><td>400</td></tr>",
                            "<tr><td>103</td><td>400</td></tr>",
                            "<tr><td>103</td><td>400</td></tr>",
                            "<tr><td>103</td><td>400</td></tr>",
                            "<tr><td>103</td><td>400</td></tr>",
                            "<tr><td>103</td><td>400</td></tr>",
                            "<tr><td>103</td><td>400</td></tr>",
                            "<tr><td>103</td><td>400</td></tr>",
                            "<tr><td>103</td><td>400</td></tr>",
                            "<tr><td>103</td><td>400</td></tr>",
                            "<tr><td>103</td><td>400</td></tr>",
                            "<tr><td>103</td><td>400</td></tr>",
                            "<tr><td>103</td><td>400</td></tr>",
                            "<tr><td>103</td><td>400</td></tr>",
                            "<tr><td>103</td><td>400</td></tr>",
                            "<tr><td>103</td><td>400</td></tr>",
                            "<tr><td>103</td><td>400</td></tr>",
                            "<tr><td>103</td><td>400</td></tr>",
                            "<tr><td>103</td><td>400</td></tr>",
                            "<tr><td>103</td><td>400</td></tr>",
                            "<tr><td>103</td><td>400</td></tr>",
                            "<tr><td>103</td><td>400</td></tr>",
                            "<tr><td>103</td><td>400</td></tr>",
                            "<tr><td>103</td><td>400</td></tr>",
                            "<tr><td>103</td><td>400</td></tr>",
                            "<tr><td>103</td><td>400</td></tr>",
                            "<tr><td>103</td><td>400</td></tr>",
                            "<tr><td>103</td><td>400</td></tr>",
                            "<tr><td>103</td><td>400</td></tr>",
                            "<tr><td>103</td><td>400</td></tr>",
                            "<tr><td>103</td><td>400</td></tr>",
                            "<tr><td>103</td><td>400</td></tr>",
                            "<tr><td>103</td><td>400</td></tr>",
                            "<tr><td>103</td><td>400</td></tr>",
                            "<tr><td>103</td><td>400</td></tr>",
                            "<tr><td>103</td><td>400</td></tr>",
                            "<tr><td>103</td><td>400</td></tr>",
                            "<tr><td>103</td><td>400</td></tr>",
                            "<tr><td>103</td><td>400</td></tr>",
                            "<tr><td>103</td><td>400</td></tr>",
                            "<tr><td>103</td><td>400</td></tr>",
                            "<tr><td>103</td><td>400</td></tr>",
                            "<tr><td>103</td><td>400</td></tr>",
                            "<tr><td>103</td><td>400</td></tr>",
                            "<tr><td>103</td><td>400</td></tr>",
                            "<tr><td>103</td><td>400</td></tr>",
                            "<tr><td>103</td><td>400</td></tr>",
                            "<tr><td>103</td><td>400</td></tr>",
                            "<tr><td>103</td><td>400</td></tr>",
                            "<tr><td>103</td><td>400</td></tr>",
                            "<tr><td>103</td><td>400</td></tr>",
                            "<tr><td>103</td><td>400</td></tr>",
                            "<tr><td>103</td><td>400</td></tr>",
                            "<tr><td>103</td><td>400</td></tr>",
                            "<tr><td>103</td><td>400</td></tr>",
                            "<tr><td>103</td><td>400</td></tr>",
                            "<tr><td>103</td><td>400</td></tr>",
                            "<tr><td>103</td><td>400</td></tr>",
                            "<tr><td>103</td><td>400</td></tr>",
                            "<tr><td>103</td><td>400</td></tr>",
                            "<tr><td>103</td><td>400</td></tr>",
                            "<tr><td>103</td><td>400</td></tr>",
                            "<tr><td>103</td><td>400</td></tr>",
                            "<tr><td>103</td><td>400</td></tr>",
                            "<tr><td>103</td><td>400</td></tr>",
                            "<tr><td>103</td><td>400</td></tr>",
                            "<tr><td>103</td><td>400</td></tr>",
                            "<tr><td>103</td><td>400</td></tr>",
                            "<tr><td>103</td><td>400</td></tr>",
                            "<tr><td>103</td><td>400</td></tr>",
                            "<tr><td>103</td><td>400</td></tr>",
                            "<tr><td>103</td><td>400</td></tr>",
                            "<tr><td>103</td><td>400</td></tr>",
                            "<tr><td>103</td><td>400</td></tr>",
                            "<tr><td>103</td><td>400</td></tr>",
                            "<tr><td>103</td><td>400</td></tr>",
                            "<tr><td>103</td><td>400</td></tr>",
                            "<tr><td>103</td><td>400</td></tr>",
                            "<tr><td>103</td><td>400</td></tr>",
                            "<tr><td>103</td><td>400</td></tr>",
                            "<tr><td>103</td><td>400</td></tr>",
                            "<tr><td>103</td><td>400</td></tr>",
                            "<tr><td>103</td><td>400</td></tr>",
                            "<tr><td>103</td><td>400</td></tr>",
                            "<tr><td>103</td><td>400</td></tr>",
                            "<tr><td>103</td><td>400</td></tr>",
                            "<tr><td>103</td><td>400</td></tr>",
                            "<tr><td>103</td><td>400</td></tr>",
                            "<tr><td>103</td><td>400</td></tr>",
                            "<tr><td>103</td><td>400</td></tr>",
                            "<tr><td>103</td><td>400</td></tr>",
                            "<tr><td>103</td><td>400</td></tr>",
                            "<tr><td>103</td><td>400</td></tr>",
                            "<tr><td>103</td><td>400</td></tr>",
                            "<tr><td>103</td><td>400</td></tr>",
                            "<tr><td>103</td><td>400</td></tr>",
                            "<tr><td>103</td><td>400</td></tr>",
                            "<tr><td>103</td><td>400</td></tr>",
                            "<tr><td>103</td><td>400</td></tr>",
                            "<tr><td>103</td><td>400</td></tr>",
                            "<tr><td>103</td><td>400</td></tr>",
                            "<tr><td>103</td><td>400</td></tr>",
                            "<tr><td>103</td><td>400</td></tr>",
                            "<tr><td>103</td><td>400</td></tr>",
                            "<tr><td>103</td><td>400</td></tr>",
                            "<tr><td>103</td><td>400</td></tr>",
                            "<tr><td>103</td><td>400</td></tr>",
                            "<tr><td>103</td><td>400</td></tr>",
                            "</table>"
                        ]
                    }
                }
            ],
            "execution_count": 10
        }
    ]
}