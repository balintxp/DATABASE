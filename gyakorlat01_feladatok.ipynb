{
    "metadata": {
        "kernelspec": {
            "name": "SQL",
            "display_name": "SQL",
            "language": "sql"
        },
        "language_info": {
            "name": "sql",
            "version": ""
        },
        "extensions": {
            "azuredatastudio": {
                "version": 1,
                "views": []
            }
        }
    },
    "nbformat_minor": 2,
    "nbformat": 4,
    "cells": [
        {
            "cell_type": "markdown",
            "source": [
                "1. Listázzuk a <span style=\"color: #800000;\">`kolcsonzes`</span> tábla következő oszlopait: ID, ki\\_datum, vissza\\_datum! \n",
                "\n",
                "  \n",
                "\n",
                "a.  Az ID oszlop neve legyen Azonosító\n",
                "\n",
                "b.  A ki\\_datum oszlop neve legyen Kölcsönzés\\_dátuma\n",
                "\n",
                "c.  A vissza\\_datum oszlop neve legyen Visszahozatal\\_dátuma"
            ],
            "metadata": {
                "azdata_cell_guid": "77f2d5b3-38e9-41cc-893f-f5afd02b97ef"
            },
            "attachments": {}
        },
        {
            "cell_type": "code",
            "source": [
                "SELECT ID AS \"azonosito\", -- A kölcsönzés azonosítója\r\n",
                "    ki_datum AS \"kolcsonzes_datuma\", \r\n",
                "    vissza_datum AS \"visszahozatal_datuma\"\r\n",
                "FROM kolcsonzesek"
            ],
            "metadata": {
                "azdata_cell_guid": "bd3cef1a-4e6e-4ece-9dc3-aaa9d2b5d66d",
                "language": "sql"
            },
            "outputs": [
                {
                    "output_type": "display_data",
                    "data": {
                        "text/html": "(5 rows affected)"
                    },
                    "metadata": {}
                },
                {
                    "output_type": "display_data",
                    "data": {
                        "text/html": "Total execution time: 00:00:00.052"
                    },
                    "metadata": {}
                },
                {
                    "output_type": "execute_result",
                    "metadata": {},
                    "execution_count": 1,
                    "data": {
                        "application/vnd.dataresource+json": {
                            "schema": {
                                "fields": [
                                    {
                                        "name": "azonosito"
                                    },
                                    {
                                        "name": "kolcsonzes_datuma"
                                    },
                                    {
                                        "name": "visszahozatal_datuma"
                                    }
                                ]
                            },
                            "data": [
                                {
                                    "azonosito": "10",
                                    "kolcsonzes_datuma": "2003-12-11",
                                    "visszahozatal_datuma": "NULL"
                                },
                                {
                                    "azonosito": "11",
                                    "kolcsonzes_datuma": "2003-12-11",
                                    "visszahozatal_datuma": "NULL"
                                },
                                {
                                    "azonosito": "12",
                                    "kolcsonzes_datuma": "2003-12-11",
                                    "visszahozatal_datuma": "NULL"
                                },
                                {
                                    "azonosito": "13",
                                    "kolcsonzes_datuma": "2006-10-01",
                                    "visszahozatal_datuma": "2006-10-10"
                                },
                                {
                                    "azonosito": "14",
                                    "kolcsonzes_datuma": "2006-10-02",
                                    "visszahozatal_datuma": "2006-10-09"
                                }
                            ]
                        },
                        "text/html": [
                            "<table>",
                            "<tr><th>azonosito</th><th>kolcsonzes_datuma</th><th>visszahozatal_datuma</th></tr>",
                            "<tr><td>10</td><td>2003-12-11</td><td>NULL</td></tr>",
                            "<tr><td>11</td><td>2003-12-11</td><td>NULL</td></tr>",
                            "<tr><td>12</td><td>2003-12-11</td><td>NULL</td></tr>",
                            "<tr><td>13</td><td>2006-10-01</td><td>2006-10-10</td></tr>",
                            "<tr><td>14</td><td>2006-10-02</td><td>2006-10-09</td></tr>",
                            "</table>"
                        ]
                    }
                }
            ],
            "execution_count": 1
        },
        {
            "cell_type": "markdown",
            "source": [
                "2. Melyek azok a kölcsönzések, amelyek 2005.01.01 és 2007.01.01 között történtek?"
            ],
            "metadata": {
                "azdata_cell_guid": "88f5b4bb-f4c1-4bad-a0c7-b2592687b422"
            },
            "attachments": {}
        },
        {
            "cell_type": "code",
            "source": [
                "SELECT *\r\n",
                "FROM kolcsonzesek\r\n",
                "WHERE kolcsonzesek.ki_datum BETWEEN '2005.01.01' AND '2007.01.01'"
            ],
            "metadata": {
                "azdata_cell_guid": "e9de5726-f036-4fb9-8c33-a873955ed886",
                "language": "sql"
            },
            "outputs": [
                {
                    "output_type": "display_data",
                    "data": {
                        "text/html": "(2 rows affected)"
                    },
                    "metadata": {}
                },
                {
                    "output_type": "display_data",
                    "data": {
                        "text/html": "Total execution time: 00:00:00.042"
                    },
                    "metadata": {}
                },
                {
                    "output_type": "execute_result",
                    "metadata": {},
                    "execution_count": 11,
                    "data": {
                        "application/vnd.dataresource+json": {
                            "schema": {
                                "fields": [
                                    {
                                        "name": "ID"
                                    },
                                    {
                                        "name": "ki"
                                    },
                                    {
                                        "name": "mit"
                                    },
                                    {
                                        "name": "ki_datum"
                                    },
                                    {
                                        "name": "vissza_datum"
                                    }
                                ]
                            },
                            "data": [
                                {
                                    "ID": "13",
                                    "ki": "1",
                                    "mit": "3",
                                    "ki_datum": "2006-10-01",
                                    "vissza_datum": "2006-10-10"
                                },
                                {
                                    "ID": "14",
                                    "ki": "2",
                                    "mit": "3",
                                    "ki_datum": "2006-10-02",
                                    "vissza_datum": "2006-10-09"
                                }
                            ]
                        },
                        "text/html": [
                            "<table>",
                            "<tr><th>ID</th><th>ki</th><th>mit</th><th>ki_datum</th><th>vissza_datum</th></tr>",
                            "<tr><td>13</td><td>1</td><td>3</td><td>2006-10-01</td><td>2006-10-10</td></tr>",
                            "<tr><td>14</td><td>2</td><td>3</td><td>2006-10-02</td><td>2006-10-09</td></tr>",
                            "</table>"
                        ]
                    }
                }
            ],
            "execution_count": 11
        },
        {
            "cell_type": "markdown",
            "source": [
                "3. Melyek azok a tagok, akiknek kedvenc stílusa a játék, és nevük a-ra végződik?\n",
                "\n",
                "  \n",
                "\n",
                "a.  Csak a tagok neve jelenjen meg, az oszlop neve Név legyen"
            ],
            "metadata": {
                "azdata_cell_guid": "9e7249de-1b59-43d8-84b1-26fa7d81fc5a"
            },
            "attachments": {}
        },
        {
            "cell_type": "code",
            "source": [
                "SELECT tagok.nev AS 'Név'\r\n",
                "FROM tagok\r\n",
                "WHERE tagok.kedvencstilus = 'játék'\r\n",
                "AND tagok.nev LIKE '%a'"
            ],
            "metadata": {
                "azdata_cell_guid": "6405d3e8-a9b1-45d7-aa76-3b1e785ef6cc",
                "language": "sql"
            },
            "outputs": [
                {
                    "output_type": "display_data",
                    "data": {
                        "text/html": "(2 rows affected)"
                    },
                    "metadata": {}
                },
                {
                    "output_type": "display_data",
                    "data": {
                        "text/html": "Total execution time: 00:00:00.039"
                    },
                    "metadata": {}
                },
                {
                    "output_type": "execute_result",
                    "metadata": {},
                    "execution_count": 13,
                    "data": {
                        "application/vnd.dataresource+json": {
                            "schema": {
                                "fields": [
                                    {
                                        "name": "Név"
                                    }
                                ]
                            },
                            "data": [
                                {
                                    "Név": "Bodó Kinga"
                                },
                                {
                                    "Név": "Garay Magdolna"
                                }
                            ]
                        },
                        "text/html": [
                            "<table>",
                            "<tr><th>Név</th></tr>",
                            "<tr><td>Bodó Kinga</td></tr>",
                            "<tr><td>Garay Magdolna</td></tr>",
                            "</table>"
                        ]
                    }
                }
            ],
            "execution_count": 13
        },
        {
            "cell_type": "markdown",
            "source": [
                "4. Listázzuk egy oszlopban a tagok nevét, címét és kedvenc stílusát összefűzve! \n",
                "\n",
                "  \n",
                "\n",
                "a.  A nevet, címet és a stílust kötőjellel válasszuk el\n",
                "\n",
                "b.  A kötőjelek előtt és után legyen 1-1 szóköz\n",
                "\n",
                "c.  Az oszlop neve legyen TAG\n",
                "\n",
                "d.  Kinga keresztnevű tagok ne legyenek benne a listában"
            ],
            "metadata": {
                "azdata_cell_guid": "6478e469-c094-472c-a772-ccd5b5c61516"
            },
            "attachments": {}
        },
        {
            "cell_type": "code",
            "source": [
                "SELECT tagok.nev+'-'+tagok.cim+'-'+tagok.kedvencstilus\r\n",
                "FROM tagok"
            ],
            "metadata": {
                "azdata_cell_guid": "02031ea2-3838-458d-839c-228e3b362b61",
                "language": "sql"
            },
            "outputs": [
                {
                    "output_type": "display_data",
                    "data": {
                        "text/html": "(17 rows affected)"
                    },
                    "metadata": {}
                },
                {
                    "output_type": "display_data",
                    "data": {
                        "text/html": "Total execution time: 00:00:00.067"
                    },
                    "metadata": {}
                },
                {
                    "output_type": "execute_result",
                    "metadata": {},
                    "execution_count": 16,
                    "data": {
                        "application/vnd.dataresource+json": {
                            "schema": {
                                "fields": [
                                    {
                                        "name": "(No column name)"
                                    }
                                ]
                            },
                            "data": [
                                {
                                    "(No column name)": "Bakk Csaba József-Ulászló u. 22.-játék"
                                },
                                {
                                    "(No column name)": "Kollár Zsófia-Tenkes u. 7/a I/4.-történelem"
                                },
                                {
                                    "(No column name)": "Mohai Mónika-Pasaréti út 23.-történelem"
                                },
                                {
                                    "(No column name)": "Bartos Kinga-Nyírfa u. 3.-sport"
                                },
                                {
                                    "(No column name)": "Ivicsics Miklós-Mészöly u. 4. -sport"
                                },
                                {
                                    "(No column name)": "Braiwish Dalal-Brigitte-Kosztolányi tér 7.-földrajz"
                                },
                                {
                                    "(No column name)": "Hajnáczky Gábor-Kende u. 14.-történelem"
                                },
                                {
                                    "(No column name)": "Lázár Gergely-Halom u. 15.-játék"
                                },
                                {
                                    "(No column name)": "Bodó Kinga-Győri u. 5.-játék"
                                },
                                {
                                    "(No column name)": "Göttinger Pál-Forrás tér 14.-sport"
                                },
                                {
                                    "(No column name)": "Bernáth Margit-Felsővár u. 55/c-történelem"
                                },
                                {
                                    "(No column name)": "Garay Magdolna-Bartók B. út 66.-játék"
                                },
                                {
                                    "(No column name)": "Ligeti Orsolya-Bartók B. u. 61. I/6.-sport"
                                },
                                {
                                    "(No column name)": "Király Róbert-Bajcsy Zs. u. 19/b-földrajz"
                                },
                                {
                                    "(No column name)": "Burai-Kovács Anikó-Bajcsy u. 1.-sport"
                                },
                                {
                                    "(No column name)": "Czimmermann Zsolt-Árpád u. 3.-földrajz"
                                },
                                {
                                    "(No column name)": "Boronkay Péter-Ábel Jenő  u. 31.-földrajz"
                                }
                            ]
                        },
                        "text/html": [
                            "<table>",
                            "<tr><th>(No column name)</th></tr>",
                            "<tr><td>Bakk Csaba József-Ulászló u. 22.-játék</td></tr>",
                            "<tr><td>Kollár Zsófia-Tenkes u. 7/a I/4.-történelem</td></tr>",
                            "<tr><td>Mohai Mónika-Pasaréti út 23.-történelem</td></tr>",
                            "<tr><td>Bartos Kinga-Nyírfa u. 3.-sport</td></tr>",
                            "<tr><td>Ivicsics Miklós-Mészöly u. 4. -sport</td></tr>",
                            "<tr><td>Braiwish Dalal-Brigitte-Kosztolányi tér 7.-földrajz</td></tr>",
                            "<tr><td>Hajnáczky Gábor-Kende u. 14.-történelem</td></tr>",
                            "<tr><td>Lázár Gergely-Halom u. 15.-játék</td></tr>",
                            "<tr><td>Bodó Kinga-Győri u. 5.-játék</td></tr>",
                            "<tr><td>Göttinger Pál-Forrás tér 14.-sport</td></tr>",
                            "<tr><td>Bernáth Margit-Felsővár u. 55/c-történelem</td></tr>",
                            "<tr><td>Garay Magdolna-Bartók B. út 66.-játék</td></tr>",
                            "<tr><td>Ligeti Orsolya-Bartók B. u. 61. I/6.-sport</td></tr>",
                            "<tr><td>Király Róbert-Bajcsy Zs. u. 19/b-földrajz</td></tr>",
                            "<tr><td>Burai-Kovács Anikó-Bajcsy u. 1.-sport</td></tr>",
                            "<tr><td>Czimmermann Zsolt-Árpád u. 3.-földrajz</td></tr>",
                            "<tr><td>Boronkay Péter-Ábel Jenő  u. 31.-földrajz</td></tr>",
                            "</table>"
                        ]
                    }
                }
            ],
            "execution_count": 16
        },
        {
            "cell_type": "markdown",
            "source": [
                "5. Mennyi lenne a dvd-k nettó ára, ha 20%-kal csökkenne? \n",
                "\n",
                "  \n",
                "\n",
                "a.  Csak a dvd-k címét és a csökkentett árat jelenítsük meg\n",
                "\n",
                "b.  A csökkentett árat nevezzük el diszkont\\_ar-nak"
            ],
            "metadata": {
                "azdata_cell_guid": "9edbbaf9-c276-4898-9a01-e1b2993c089f"
            },
            "attachments": {}
        },
        {
            "cell_type": "code",
            "source": [
                "SELECT dvd.nettoar * 0.8\r\n",
                "FROM dvd"
            ],
            "metadata": {
                "azdata_cell_guid": "5ad5fdcb-2878-4111-861a-833bcd50e935",
                "language": "sql"
            },
            "outputs": [
                {
                    "output_type": "display_data",
                    "data": {
                        "text/html": "(318 rows affected)"
                    },
                    "metadata": {}
                },
                {
                    "output_type": "display_data",
                    "data": {
                        "text/html": "Total execution time: 00:00:00.011"
                    },
                    "metadata": {}
                },
                {
                    "output_type": "execute_result",
                    "metadata": {},
                    "execution_count": 18,
                    "data": {
                        "application/vnd.dataresource+json": {
                            "schema": {
                                "fields": [
                                    {
                                        "name": "(No column name)"
                                    }
                                ]
                            },
                            "data": [
                                {
                                    "(No column name)": "3087,2000000000003"
                                },
                                {
                                    "(No column name)": "3395,2000000000003"
                                },
                                {
                                    "(No column name)": "4032,8"
                                },
                                {
                                    "(No column name)": "4284"
                                },
                                {
                                    "(No column name)": "4560"
                                },
                                {
                                    "(No column name)": "2832"
                                },
                                {
                                    "(No column name)": "3392,8"
                                },
                                {
                                    "(No column name)": "4254,400000000001"
                                },
                                {
                                    "(No column name)": "3585,6000000000004"
                                },
                                {
                                    "(No column name)": "3448,8"
                                },
                                {
                                    "(No column name)": "4472,8"
                                },
                                {
                                    "(No column name)": "3882,4"
                                },
                                {
                                    "(No column name)": "3924,8"
                                },
                                {
                                    "(No column name)": "3559,2000000000003"
                                },
                                {
                                    "(No column name)": "3555,2000000000003"
                                },
                                {
                                    "(No column name)": "2807,2000000000003"
                                },
                                {
                                    "(No column name)": "4120,8"
                                },
                                {
                                    "(No column name)": "4510,400000000001"
                                },
                                {
                                    "(No column name)": "4564,8"
                                },
                                {
                                    "(No column name)": "2712,8"
                                },
                                {
                                    "(No column name)": "4017,6000000000004"
                                },
                                {
                                    "(No column name)": "3131,2000000000003"
                                },
                                {
                                    "(No column name)": "4628,8"
                                },
                                {
                                    "(No column name)": "4499,2"
                                },
                                {
                                    "(No column name)": "4260,8"
                                },
                                {
                                    "(No column name)": "3570,4"
                                },
                                {
                                    "(No column name)": "2498,4"
                                },
                                {
                                    "(No column name)": "3552"
                                },
                                {
                                    "(No column name)": "4434,400000000001"
                                },
                                {
                                    "(No column name)": "3055,2000000000003"
                                },
                                {
                                    "(No column name)": "3033,6000000000004"
                                },
                                {
                                    "(No column name)": "2785,6000000000004"
                                },
                                {
                                    "(No column name)": "3260,8"
                                },
                                {
                                    "(No column name)": "3601,6000000000004"
                                },
                                {
                                    "(No column name)": "3243,2000000000003"
                                },
                                {
                                    "(No column name)": "4233,6"
                                },
                                {
                                    "(No column name)": "4664"
                                },
                                {
                                    "(No column name)": "2621,6000000000004"
                                },
                                {
                                    "(No column name)": "3308,8"
                                },
                                {
                                    "(No column name)": "4849,6"
                                },
                                {
                                    "(No column name)": "4024"
                                },
                                {
                                    "(No column name)": "2965,6000000000004"
                                },
                                {
                                    "(No column name)": "4337,6"
                                },
                                {
                                    "(No column name)": "4208"
                                },
                                {
                                    "(No column name)": "4745,6"
                                },
                                {
                                    "(No column name)": "3269,6000000000004"
                                },
                                {
                                    "(No column name)": "3199,2000000000003"
                                },
                                {
                                    "(No column name)": "4735,2"
                                },
                                {
                                    "(No column name)": "4506,400000000001"
                                },
                                {
                                    "(No column name)": "4627,2"
                                },
                                {
                                    "(No column name)": "3501,6000000000004"
                                },
                                {
                                    "(No column name)": "4775,2"
                                },
                                {
                                    "(No column name)": "3920"
                                },
                                {
                                    "(No column name)": "4488,8"
                                },
                                {
                                    "(No column name)": "3759,2000000000003"
                                },
                                {
                                    "(No column name)": "4379,2"
                                },
                                {
                                    "(No column name)": "2695,2000000000003"
                                },
                                {
                                    "(No column name)": "4466,400000000001"
                                },
                                {
                                    "(No column name)": "2606,4"
                                },
                                {
                                    "(No column name)": "4457,6"
                                },
                                {
                                    "(No column name)": "3368,8"
                                },
                                {
                                    "(No column name)": "3436"
                                },
                                {
                                    "(No column name)": "4267,2"
                                },
                                {
                                    "(No column name)": "4173,6"
                                },
                                {
                                    "(No column name)": "4172"
                                },
                                {
                                    "(No column name)": "2901,6000000000004"
                                },
                                {
                                    "(No column name)": "3582,4"
                                },
                                {
                                    "(No column name)": "3999,2000000000003"
                                },
                                {
                                    "(No column name)": "3131,2000000000003"
                                },
                                {
                                    "(No column name)": "4705,6"
                                },
                                {
                                    "(No column name)": "3195,2000000000003"
                                },
                                {
                                    "(No column name)": "4216"
                                },
                                {
                                    "(No column name)": "3096,8"
                                },
                                {
                                    "(No column name)": "3100,8"
                                },
                                {
                                    "(No column name)": "2572"
                                },
                                {
                                    "(No column name)": "4680,8"
                                },
                                {
                                    "(No column name)": "4764"
                                },
                                {
                                    "(No column name)": "4007,2000000000003"
                                },
                                {
                                    "(No column name)": "2481,6000000000004"
                                },
                                {
                                    "(No column name)": "4047,2000000000003"
                                },
                                {
                                    "(No column name)": "3840"
                                },
                                {
                                    "(No column name)": "3705,6000000000004"
                                },
                                {
                                    "(No column name)": "3685,6000000000004"
                                },
                                {
                                    "(No column name)": "2987,2000000000003"
                                },
                                {
                                    "(No column name)": "3848"
                                },
                                {
                                    "(No column name)": "4610,400000000001"
                                },
                                {
                                    "(No column name)": "4720"
                                },
                                {
                                    "(No column name)": "3144"
                                },
                                {
                                    "(No column name)": "2538,4"
                                },
                                {
                                    "(No column name)": "3230,4"
                                },
                                {
                                    "(No column name)": "3016"
                                },
                                {
                                    "(No column name)": "4495,2"
                                },
                                {
                                    "(No column name)": "2852,8"
                                },
                                {
                                    "(No column name)": "3812,8"
                                },
                                {
                                    "(No column name)": "3681,6000000000004"
                                },
                                {
                                    "(No column name)": "3148,8"
                                },
                                {
                                    "(No column name)": "4276,8"
                                },
                                {
                                    "(No column name)": "4004"
                                },
                                {
                                    "(No column name)": "4099,2"
                                },
                                {
                                    "(No column name)": "2812"
                                },
                                {
                                    "(No column name)": "3024,8"
                                },
                                {
                                    "(No column name)": "3322,4"
                                },
                                {
                                    "(No column name)": "4324"
                                },
                                {
                                    "(No column name)": "2964"
                                },
                                {
                                    "(No column name)": "4595,2"
                                },
                                {
                                    "(No column name)": "4582,400000000001"
                                },
                                {
                                    "(No column name)": "3577,6000000000004"
                                },
                                {
                                    "(No column name)": "2784,8"
                                },
                                {
                                    "(No column name)": "2529,6000000000004"
                                },
                                {
                                    "(No column name)": "3429,6000000000004"
                                },
                                {
                                    "(No column name)": "2488"
                                },
                                {
                                    "(No column name)": "2986,4"
                                },
                                {
                                    "(No column name)": "3673,6000000000004"
                                },
                                {
                                    "(No column name)": "3346,4"
                                },
                                {
                                    "(No column name)": "2492"
                                },
                                {
                                    "(No column name)": "3823,2000000000003"
                                },
                                {
                                    "(No column name)": "3112"
                                },
                                {
                                    "(No column name)": "3947,2000000000003"
                                },
                                {
                                    "(No column name)": "3018,4"
                                },
                                {
                                    "(No column name)": "3515,2000000000003"
                                },
                                {
                                    "(No column name)": "4065,6000000000004"
                                },
                                {
                                    "(No column name)": "3092,8"
                                },
                                {
                                    "(No column name)": "4523,2"
                                },
                                {
                                    "(No column name)": "4500"
                                },
                                {
                                    "(No column name)": "4348,8"
                                },
                                {
                                    "(No column name)": "4865,6"
                                },
                                {
                                    "(No column name)": "2735,2000000000003"
                                },
                                {
                                    "(No column name)": "3363,2000000000003"
                                },
                                {
                                    "(No column name)": "3567,2000000000003"
                                },
                                {
                                    "(No column name)": "2510,4"
                                },
                                {
                                    "(No column name)": "4239,2"
                                },
                                {
                                    "(No column name)": "3814,4"
                                },
                                {
                                    "(No column name)": "3096"
                                },
                                {
                                    "(No column name)": "4857,6"
                                },
                                {
                                    "(No column name)": "2485,6000000000004"
                                },
                                {
                                    "(No column name)": "4075,2000000000003"
                                },
                                {
                                    "(No column name)": "4676"
                                },
                                {
                                    "(No column name)": "3144,8"
                                },
                                {
                                    "(No column name)": "4326,400000000001"
                                },
                                {
                                    "(No column name)": "3441,6000000000004"
                                },
                                {
                                    "(No column name)": "4367,2"
                                },
                                {
                                    "(No column name)": "3863,2000000000003"
                                },
                                {
                                    "(No column name)": "3640"
                                },
                                {
                                    "(No column name)": "2604,8"
                                },
                                {
                                    "(No column name)": "4405,6"
                                },
                                {
                                    "(No column name)": "4380,8"
                                },
                                {
                                    "(No column name)": "4584"
                                },
                                {
                                    "(No column name)": "3671,2000000000003"
                                },
                                {
                                    "(No column name)": "4406,400000000001"
                                },
                                {
                                    "(No column name)": "2875,2000000000003"
                                },
                                {
                                    "(No column name)": "4430,400000000001"
                                },
                                {
                                    "(No column name)": "3970,4"
                                },
                                {
                                    "(No column name)": "4188"
                                },
                                {
                                    "(No column name)": "2760,8"
                                },
                                {
                                    "(No column name)": "4677,6"
                                },
                                {
                                    "(No column name)": "4331,2"
                                },
                                {
                                    "(No column name)": "4392,8"
                                },
                                {
                                    "(No column name)": "2735,2000000000003"
                                },
                                {
                                    "(No column name)": "3367,2000000000003"
                                },
                                {
                                    "(No column name)": "3449,6000000000004"
                                },
                                {
                                    "(No column name)": "3960,8"
                                },
                                {
                                    "(No column name)": "4066,4"
                                },
                                {
                                    "(No column name)": "3550,4"
                                },
                                {
                                    "(No column name)": "4094,4"
                                },
                                {
                                    "(No column name)": "2915,2000000000003"
                                },
                                {
                                    "(No column name)": "4344,8"
                                },
                                {
                                    "(No column name)": "3677,6000000000004"
                                },
                                {
                                    "(No column name)": "3880,8"
                                },
                                {
                                    "(No column name)": "3494,4"
                                },
                                {
                                    "(No column name)": "2900,8"
                                },
                                {
                                    "(No column name)": "4784,8"
                                },
                                {
                                    "(No column name)": "3705,6000000000004"
                                },
                                {
                                    "(No column name)": "2726,4"
                                },
                                {
                                    "(No column name)": "3228"
                                },
                                {
                                    "(No column name)": "3076"
                                },
                                {
                                    "(No column name)": "3297,6000000000004"
                                },
                                {
                                    "(No column name)": "3763,2000000000003"
                                },
                                {
                                    "(No column name)": "4126,400000000001"
                                },
                                {
                                    "(No column name)": "3936,8"
                                },
                                {
                                    "(No column name)": "2938,4"
                                },
                                {
                                    "(No column name)": "2678,4"
                                },
                                {
                                    "(No column name)": "2701,6000000000004"
                                },
                                {
                                    "(No column name)": "4367,2"
                                },
                                {
                                    "(No column name)": "4338,400000000001"
                                },
                                {
                                    "(No column name)": "4681,6"
                                },
                                {
                                    "(No column name)": "4840,8"
                                },
                                {
                                    "(No column name)": "4282,400000000001"
                                },
                                {
                                    "(No column name)": "4854,400000000001"
                                },
                                {
                                    "(No column name)": "2779,2000000000003"
                                },
                                {
                                    "(No column name)": "3904,8"
                                },
                                {
                                    "(No column name)": "4306,400000000001"
                                },
                                {
                                    "(No column name)": "4773,6"
                                },
                                {
                                    "(No column name)": "3320"
                                },
                                {
                                    "(No column name)": "4796"
                                },
                                {
                                    "(No column name)": "4316,8"
                                },
                                {
                                    "(No column name)": "4454,400000000001"
                                },
                                {
                                    "(No column name)": "2828,8"
                                },
                                {
                                    "(No column name)": "3842,4"
                                },
                                {
                                    "(No column name)": "3996,8"
                                },
                                {
                                    "(No column name)": "2712,8"
                                },
                                {
                                    "(No column name)": "3713,6000000000004"
                                },
                                {
                                    "(No column name)": "4676"
                                },
                                {
                                    "(No column name)": "4862,400000000001"
                                },
                                {
                                    "(No column name)": "2484"
                                },
                                {
                                    "(No column name)": "3692,8"
                                },
                                {
                                    "(No column name)": "2652"
                                },
                                {
                                    "(No column name)": "4032"
                                },
                                {
                                    "(No column name)": "3828,8"
                                },
                                {
                                    "(No column name)": "3781,6000000000004"
                                },
                                {
                                    "(No column name)": "4028,8"
                                },
                                {
                                    "(No column name)": "3179,2000000000003"
                                },
                                {
                                    "(No column name)": "3528"
                                },
                                {
                                    "(No column name)": "4381,6"
                                },
                                {
                                    "(No column name)": "4845,6"
                                },
                                {
                                    "(No column name)": "2623,2000000000003"
                                },
                                {
                                    "(No column name)": "4268,8"
                                },
                                {
                                    "(No column name)": "4878,400000000001"
                                },
                                {
                                    "(No column name)": "2792"
                                },
                                {
                                    "(No column name)": "3509,6000000000004"
                                },
                                {
                                    "(No column name)": "4458,400000000001"
                                },
                                {
                                    "(No column name)": "3901,6000000000004"
                                },
                                {
                                    "(No column name)": "4774,400000000001"
                                },
                                {
                                    "(No column name)": "3317,6000000000004"
                                },
                                {
                                    "(No column name)": "2880"
                                },
                                {
                                    "(No column name)": "3003,2000000000003"
                                },
                                {
                                    "(No column name)": "2650,4"
                                },
                                {
                                    "(No column name)": "3597,6000000000004"
                                },
                                {
                                    "(No column name)": "2978,4"
                                },
                                {
                                    "(No column name)": "4193,6"
                                },
                                {
                                    "(No column name)": "3482,4"
                                },
                                {
                                    "(No column name)": "2817,6000000000004"
                                },
                                {
                                    "(No column name)": "2950,4"
                                },
                                {
                                    "(No column name)": "4666,400000000001"
                                },
                                {
                                    "(No column name)": "2497,6000000000004"
                                },
                                {
                                    "(No column name)": "3285,6000000000004"
                                },
                                {
                                    "(No column name)": "4086,4"
                                },
                                {
                                    "(No column name)": "4807,2"
                                },
                                {
                                    "(No column name)": "3732,8"
                                },
                                {
                                    "(No column name)": "3802,4"
                                },
                                {
                                    "(No column name)": "3487,2000000000003"
                                },
                                {
                                    "(No column name)": "3149,6000000000004"
                                },
                                {
                                    "(No column name)": "3684,8"
                                },
                                {
                                    "(No column name)": "4653,6"
                                },
                                {
                                    "(No column name)": "4846,400000000001"
                                },
                                {
                                    "(No column name)": "4498,400000000001"
                                },
                                {
                                    "(No column name)": "4390,400000000001"
                                },
                                {
                                    "(No column name)": "3025,6000000000004"
                                },
                                {
                                    "(No column name)": "4008,8"
                                },
                                {
                                    "(No column name)": "2515,2000000000003"
                                },
                                {
                                    "(No column name)": "3822,4"
                                },
                                {
                                    "(No column name)": "2484,8"
                                },
                                {
                                    "(No column name)": "3587,2000000000003"
                                },
                                {
                                    "(No column name)": "3191,2000000000003"
                                },
                                {
                                    "(No column name)": "3413,6000000000004"
                                },
                                {
                                    "(No column name)": "3314,4"
                                },
                                {
                                    "(No column name)": "4720"
                                },
                                {
                                    "(No column name)": "3234,4"
                                },
                                {
                                    "(No column name)": "2760"
                                },
                                {
                                    "(No column name)": "3020"
                                },
                                {
                                    "(No column name)": "4587,2"
                                },
                                {
                                    "(No column name)": "2816"
                                },
                                {
                                    "(No column name)": "4628"
                                },
                                {
                                    "(No column name)": "4642,400000000001"
                                },
                                {
                                    "(No column name)": "3320,8"
                                },
                                {
                                    "(No column name)": "4429,6"
                                },
                                {
                                    "(No column name)": "4848"
                                },
                                {
                                    "(No column name)": "4149,6"
                                },
                                {
                                    "(No column name)": "3593,6000000000004"
                                },
                                {
                                    "(No column name)": "4792"
                                },
                                {
                                    "(No column name)": "3794,4"
                                },
                                {
                                    "(No column name)": "3978,4"
                                },
                                {
                                    "(No column name)": "4867,2"
                                },
                                {
                                    "(No column name)": "3448"
                                },
                                {
                                    "(No column name)": "3584"
                                },
                                {
                                    "(No column name)": "4848,8"
                                },
                                {
                                    "(No column name)": "2989,6000000000004"
                                },
                                {
                                    "(No column name)": "3901,6000000000004"
                                },
                                {
                                    "(No column name)": "4305,6"
                                },
                                {
                                    "(No column name)": "3325,6000000000004"
                                },
                                {
                                    "(No column name)": "3652,8"
                                },
                                {
                                    "(No column name)": "4200"
                                },
                                {
                                    "(No column name)": "4127,2"
                                },
                                {
                                    "(No column name)": "3460"
                                },
                                {
                                    "(No column name)": "3638,4"
                                },
                                {
                                    "(No column name)": "3047,2000000000003"
                                },
                                {
                                    "(No column name)": "2989,6000000000004"
                                },
                                {
                                    "(No column name)": "2989,6000000000004"
                                },
                                {
                                    "(No column name)": "2988,8"
                                },
                                {
                                    "(No column name)": "4508"
                                },
                                {
                                    "(No column name)": "3508"
                                },
                                {
                                    "(No column name)": "4342,400000000001"
                                },
                                {
                                    "(No column name)": "3720,8"
                                },
                                {
                                    "(No column name)": "4368,8"
                                },
                                {
                                    "(No column name)": "4190,400000000001"
                                },
                                {
                                    "(No column name)": "4417,6"
                                },
                                {
                                    "(No column name)": "4819,2"
                                },
                                {
                                    "(No column name)": "2923,2000000000003"
                                },
                                {
                                    "(No column name)": "4564"
                                },
                                {
                                    "(No column name)": "2865,6000000000004"
                                },
                                {
                                    "(No column name)": "4793,6"
                                },
                                {
                                    "(No column name)": "4380,8"
                                },
                                {
                                    "(No column name)": "3912,8"
                                },
                                {
                                    "(No column name)": "3389,6000000000004"
                                },
                                {
                                    "(No column name)": "2650,4"
                                },
                                {
                                    "(No column name)": "3890,4"
                                },
                                {
                                    "(No column name)": "4569,6"
                                },
                                {
                                    "(No column name)": "3516"
                                },
                                {
                                    "(No column name)": "4599,2"
                                },
                                {
                                    "(No column name)": "3248"
                                },
                                {
                                    "(No column name)": "4319,2"
                                },
                                {
                                    "(No column name)": "4161,6"
                                },
                                {
                                    "(No column name)": "2756,8"
                                },
                                {
                                    "(No column name)": "2876"
                                },
                                {
                                    "(No column name)": "4241,6"
                                },
                                {
                                    "(No column name)": "4619,2"
                                },
                                {
                                    "(No column name)": "3549,6000000000004"
                                },
                                {
                                    "(No column name)": "3315,2000000000003"
                                },
                                {
                                    "(No column name)": "4852"
                                }
                            ]
                        },
                        "text/html": [
                            "<table>",
                            "<tr><th>(No column name)</th></tr>",
                            "<tr><td>3087,2000000000003</td></tr>",
                            "<tr><td>3395,2000000000003</td></tr>",
                            "<tr><td>4032,8</td></tr>",
                            "<tr><td>4284</td></tr>",
                            "<tr><td>4560</td></tr>",
                            "<tr><td>2832</td></tr>",
                            "<tr><td>3392,8</td></tr>",
                            "<tr><td>4254,400000000001</td></tr>",
                            "<tr><td>3585,6000000000004</td></tr>",
                            "<tr><td>3448,8</td></tr>",
                            "<tr><td>4472,8</td></tr>",
                            "<tr><td>3882,4</td></tr>",
                            "<tr><td>3924,8</td></tr>",
                            "<tr><td>3559,2000000000003</td></tr>",
                            "<tr><td>3555,2000000000003</td></tr>",
                            "<tr><td>2807,2000000000003</td></tr>",
                            "<tr><td>4120,8</td></tr>",
                            "<tr><td>4510,400000000001</td></tr>",
                            "<tr><td>4564,8</td></tr>",
                            "<tr><td>2712,8</td></tr>",
                            "<tr><td>4017,6000000000004</td></tr>",
                            "<tr><td>3131,2000000000003</td></tr>",
                            "<tr><td>4628,8</td></tr>",
                            "<tr><td>4499,2</td></tr>",
                            "<tr><td>4260,8</td></tr>",
                            "<tr><td>3570,4</td></tr>",
                            "<tr><td>2498,4</td></tr>",
                            "<tr><td>3552</td></tr>",
                            "<tr><td>4434,400000000001</td></tr>",
                            "<tr><td>3055,2000000000003</td></tr>",
                            "<tr><td>3033,6000000000004</td></tr>",
                            "<tr><td>2785,6000000000004</td></tr>",
                            "<tr><td>3260,8</td></tr>",
                            "<tr><td>3601,6000000000004</td></tr>",
                            "<tr><td>3243,2000000000003</td></tr>",
                            "<tr><td>4233,6</td></tr>",
                            "<tr><td>4664</td></tr>",
                            "<tr><td>2621,6000000000004</td></tr>",
                            "<tr><td>3308,8</td></tr>",
                            "<tr><td>4849,6</td></tr>",
                            "<tr><td>4024</td></tr>",
                            "<tr><td>2965,6000000000004</td></tr>",
                            "<tr><td>4337,6</td></tr>",
                            "<tr><td>4208</td></tr>",
                            "<tr><td>4745,6</td></tr>",
                            "<tr><td>3269,6000000000004</td></tr>",
                            "<tr><td>3199,2000000000003</td></tr>",
                            "<tr><td>4735,2</td></tr>",
                            "<tr><td>4506,400000000001</td></tr>",
                            "<tr><td>4627,2</td></tr>",
                            "<tr><td>3501,6000000000004</td></tr>",
                            "<tr><td>4775,2</td></tr>",
                            "<tr><td>3920</td></tr>",
                            "<tr><td>4488,8</td></tr>",
                            "<tr><td>3759,2000000000003</td></tr>",
                            "<tr><td>4379,2</td></tr>",
                            "<tr><td>2695,2000000000003</td></tr>",
                            "<tr><td>4466,400000000001</td></tr>",
                            "<tr><td>2606,4</td></tr>",
                            "<tr><td>4457,6</td></tr>",
                            "<tr><td>3368,8</td></tr>",
                            "<tr><td>3436</td></tr>",
                            "<tr><td>4267,2</td></tr>",
                            "<tr><td>4173,6</td></tr>",
                            "<tr><td>4172</td></tr>",
                            "<tr><td>2901,6000000000004</td></tr>",
                            "<tr><td>3582,4</td></tr>",
                            "<tr><td>3999,2000000000003</td></tr>",
                            "<tr><td>3131,2000000000003</td></tr>",
                            "<tr><td>4705,6</td></tr>",
                            "<tr><td>3195,2000000000003</td></tr>",
                            "<tr><td>4216</td></tr>",
                            "<tr><td>3096,8</td></tr>",
                            "<tr><td>3100,8</td></tr>",
                            "<tr><td>2572</td></tr>",
                            "<tr><td>4680,8</td></tr>",
                            "<tr><td>4764</td></tr>",
                            "<tr><td>4007,2000000000003</td></tr>",
                            "<tr><td>2481,6000000000004</td></tr>",
                            "<tr><td>4047,2000000000003</td></tr>",
                            "<tr><td>3840</td></tr>",
                            "<tr><td>3705,6000000000004</td></tr>",
                            "<tr><td>3685,6000000000004</td></tr>",
                            "<tr><td>2987,2000000000003</td></tr>",
                            "<tr><td>3848</td></tr>",
                            "<tr><td>4610,400000000001</td></tr>",
                            "<tr><td>4720</td></tr>",
                            "<tr><td>3144</td></tr>",
                            "<tr><td>2538,4</td></tr>",
                            "<tr><td>3230,4</td></tr>",
                            "<tr><td>3016</td></tr>",
                            "<tr><td>4495,2</td></tr>",
                            "<tr><td>2852,8</td></tr>",
                            "<tr><td>3812,8</td></tr>",
                            "<tr><td>3681,6000000000004</td></tr>",
                            "<tr><td>3148,8</td></tr>",
                            "<tr><td>4276,8</td></tr>",
                            "<tr><td>4004</td></tr>",
                            "<tr><td>4099,2</td></tr>",
                            "<tr><td>2812</td></tr>",
                            "<tr><td>3024,8</td></tr>",
                            "<tr><td>3322,4</td></tr>",
                            "<tr><td>4324</td></tr>",
                            "<tr><td>2964</td></tr>",
                            "<tr><td>4595,2</td></tr>",
                            "<tr><td>4582,400000000001</td></tr>",
                            "<tr><td>3577,6000000000004</td></tr>",
                            "<tr><td>2784,8</td></tr>",
                            "<tr><td>2529,6000000000004</td></tr>",
                            "<tr><td>3429,6000000000004</td></tr>",
                            "<tr><td>2488</td></tr>",
                            "<tr><td>2986,4</td></tr>",
                            "<tr><td>3673,6000000000004</td></tr>",
                            "<tr><td>3346,4</td></tr>",
                            "<tr><td>2492</td></tr>",
                            "<tr><td>3823,2000000000003</td></tr>",
                            "<tr><td>3112</td></tr>",
                            "<tr><td>3947,2000000000003</td></tr>",
                            "<tr><td>3018,4</td></tr>",
                            "<tr><td>3515,2000000000003</td></tr>",
                            "<tr><td>4065,6000000000004</td></tr>",
                            "<tr><td>3092,8</td></tr>",
                            "<tr><td>4523,2</td></tr>",
                            "<tr><td>4500</td></tr>",
                            "<tr><td>4348,8</td></tr>",
                            "<tr><td>4865,6</td></tr>",
                            "<tr><td>2735,2000000000003</td></tr>",
                            "<tr><td>3363,2000000000003</td></tr>",
                            "<tr><td>3567,2000000000003</td></tr>",
                            "<tr><td>2510,4</td></tr>",
                            "<tr><td>4239,2</td></tr>",
                            "<tr><td>3814,4</td></tr>",
                            "<tr><td>3096</td></tr>",
                            "<tr><td>4857,6</td></tr>",
                            "<tr><td>2485,6000000000004</td></tr>",
                            "<tr><td>4075,2000000000003</td></tr>",
                            "<tr><td>4676</td></tr>",
                            "<tr><td>3144,8</td></tr>",
                            "<tr><td>4326,400000000001</td></tr>",
                            "<tr><td>3441,6000000000004</td></tr>",
                            "<tr><td>4367,2</td></tr>",
                            "<tr><td>3863,2000000000003</td></tr>",
                            "<tr><td>3640</td></tr>",
                            "<tr><td>2604,8</td></tr>",
                            "<tr><td>4405,6</td></tr>",
                            "<tr><td>4380,8</td></tr>",
                            "<tr><td>4584</td></tr>",
                            "<tr><td>3671,2000000000003</td></tr>",
                            "<tr><td>4406,400000000001</td></tr>",
                            "<tr><td>2875,2000000000003</td></tr>",
                            "<tr><td>4430,400000000001</td></tr>",
                            "<tr><td>3970,4</td></tr>",
                            "<tr><td>4188</td></tr>",
                            "<tr><td>2760,8</td></tr>",
                            "<tr><td>4677,6</td></tr>",
                            "<tr><td>4331,2</td></tr>",
                            "<tr><td>4392,8</td></tr>",
                            "<tr><td>2735,2000000000003</td></tr>",
                            "<tr><td>3367,2000000000003</td></tr>",
                            "<tr><td>3449,6000000000004</td></tr>",
                            "<tr><td>3960,8</td></tr>",
                            "<tr><td>4066,4</td></tr>",
                            "<tr><td>3550,4</td></tr>",
                            "<tr><td>4094,4</td></tr>",
                            "<tr><td>2915,2000000000003</td></tr>",
                            "<tr><td>4344,8</td></tr>",
                            "<tr><td>3677,6000000000004</td></tr>",
                            "<tr><td>3880,8</td></tr>",
                            "<tr><td>3494,4</td></tr>",
                            "<tr><td>2900,8</td></tr>",
                            "<tr><td>4784,8</td></tr>",
                            "<tr><td>3705,6000000000004</td></tr>",
                            "<tr><td>2726,4</td></tr>",
                            "<tr><td>3228</td></tr>",
                            "<tr><td>3076</td></tr>",
                            "<tr><td>3297,6000000000004</td></tr>",
                            "<tr><td>3763,2000000000003</td></tr>",
                            "<tr><td>4126,400000000001</td></tr>",
                            "<tr><td>3936,8</td></tr>",
                            "<tr><td>2938,4</td></tr>",
                            "<tr><td>2678,4</td></tr>",
                            "<tr><td>2701,6000000000004</td></tr>",
                            "<tr><td>4367,2</td></tr>",
                            "<tr><td>4338,400000000001</td></tr>",
                            "<tr><td>4681,6</td></tr>",
                            "<tr><td>4840,8</td></tr>",
                            "<tr><td>4282,400000000001</td></tr>",
                            "<tr><td>4854,400000000001</td></tr>",
                            "<tr><td>2779,2000000000003</td></tr>",
                            "<tr><td>3904,8</td></tr>",
                            "<tr><td>4306,400000000001</td></tr>",
                            "<tr><td>4773,6</td></tr>",
                            "<tr><td>3320</td></tr>",
                            "<tr><td>4796</td></tr>",
                            "<tr><td>4316,8</td></tr>",
                            "<tr><td>4454,400000000001</td></tr>",
                            "<tr><td>2828,8</td></tr>",
                            "<tr><td>3842,4</td></tr>",
                            "<tr><td>3996,8</td></tr>",
                            "<tr><td>2712,8</td></tr>",
                            "<tr><td>3713,6000000000004</td></tr>",
                            "<tr><td>4676</td></tr>",
                            "<tr><td>4862,400000000001</td></tr>",
                            "<tr><td>2484</td></tr>",
                            "<tr><td>3692,8</td></tr>",
                            "<tr><td>2652</td></tr>",
                            "<tr><td>4032</td></tr>",
                            "<tr><td>3828,8</td></tr>",
                            "<tr><td>3781,6000000000004</td></tr>",
                            "<tr><td>4028,8</td></tr>",
                            "<tr><td>3179,2000000000003</td></tr>",
                            "<tr><td>3528</td></tr>",
                            "<tr><td>4381,6</td></tr>",
                            "<tr><td>4845,6</td></tr>",
                            "<tr><td>2623,2000000000003</td></tr>",
                            "<tr><td>4268,8</td></tr>",
                            "<tr><td>4878,400000000001</td></tr>",
                            "<tr><td>2792</td></tr>",
                            "<tr><td>3509,6000000000004</td></tr>",
                            "<tr><td>4458,400000000001</td></tr>",
                            "<tr><td>3901,6000000000004</td></tr>",
                            "<tr><td>4774,400000000001</td></tr>",
                            "<tr><td>3317,6000000000004</td></tr>",
                            "<tr><td>2880</td></tr>",
                            "<tr><td>3003,2000000000003</td></tr>",
                            "<tr><td>2650,4</td></tr>",
                            "<tr><td>3597,6000000000004</td></tr>",
                            "<tr><td>2978,4</td></tr>",
                            "<tr><td>4193,6</td></tr>",
                            "<tr><td>3482,4</td></tr>",
                            "<tr><td>2817,6000000000004</td></tr>",
                            "<tr><td>2950,4</td></tr>",
                            "<tr><td>4666,400000000001</td></tr>",
                            "<tr><td>2497,6000000000004</td></tr>",
                            "<tr><td>3285,6000000000004</td></tr>",
                            "<tr><td>4086,4</td></tr>",
                            "<tr><td>4807,2</td></tr>",
                            "<tr><td>3732,8</td></tr>",
                            "<tr><td>3802,4</td></tr>",
                            "<tr><td>3487,2000000000003</td></tr>",
                            "<tr><td>3149,6000000000004</td></tr>",
                            "<tr><td>3684,8</td></tr>",
                            "<tr><td>4653,6</td></tr>",
                            "<tr><td>4846,400000000001</td></tr>",
                            "<tr><td>4498,400000000001</td></tr>",
                            "<tr><td>4390,400000000001</td></tr>",
                            "<tr><td>3025,6000000000004</td></tr>",
                            "<tr><td>4008,8</td></tr>",
                            "<tr><td>2515,2000000000003</td></tr>",
                            "<tr><td>3822,4</td></tr>",
                            "<tr><td>2484,8</td></tr>",
                            "<tr><td>3587,2000000000003</td></tr>",
                            "<tr><td>3191,2000000000003</td></tr>",
                            "<tr><td>3413,6000000000004</td></tr>",
                            "<tr><td>3314,4</td></tr>",
                            "<tr><td>4720</td></tr>",
                            "<tr><td>3234,4</td></tr>",
                            "<tr><td>2760</td></tr>",
                            "<tr><td>3020</td></tr>",
                            "<tr><td>4587,2</td></tr>",
                            "<tr><td>2816</td></tr>",
                            "<tr><td>4628</td></tr>",
                            "<tr><td>4642,400000000001</td></tr>",
                            "<tr><td>3320,8</td></tr>",
                            "<tr><td>4429,6</td></tr>",
                            "<tr><td>4848</td></tr>",
                            "<tr><td>4149,6</td></tr>",
                            "<tr><td>3593,6000000000004</td></tr>",
                            "<tr><td>4792</td></tr>",
                            "<tr><td>3794,4</td></tr>",
                            "<tr><td>3978,4</td></tr>",
                            "<tr><td>4867,2</td></tr>",
                            "<tr><td>3448</td></tr>",
                            "<tr><td>3584</td></tr>",
                            "<tr><td>4848,8</td></tr>",
                            "<tr><td>2989,6000000000004</td></tr>",
                            "<tr><td>3901,6000000000004</td></tr>",
                            "<tr><td>4305,6</td></tr>",
                            "<tr><td>3325,6000000000004</td></tr>",
                            "<tr><td>3652,8</td></tr>",
                            "<tr><td>4200</td></tr>",
                            "<tr><td>4127,2</td></tr>",
                            "<tr><td>3460</td></tr>",
                            "<tr><td>3638,4</td></tr>",
                            "<tr><td>3047,2000000000003</td></tr>",
                            "<tr><td>2989,6000000000004</td></tr>",
                            "<tr><td>2989,6000000000004</td></tr>",
                            "<tr><td>2988,8</td></tr>",
                            "<tr><td>4508</td></tr>",
                            "<tr><td>3508</td></tr>",
                            "<tr><td>4342,400000000001</td></tr>",
                            "<tr><td>3720,8</td></tr>",
                            "<tr><td>4368,8</td></tr>",
                            "<tr><td>4190,400000000001</td></tr>",
                            "<tr><td>4417,6</td></tr>",
                            "<tr><td>4819,2</td></tr>",
                            "<tr><td>2923,2000000000003</td></tr>",
                            "<tr><td>4564</td></tr>",
                            "<tr><td>2865,6000000000004</td></tr>",
                            "<tr><td>4793,6</td></tr>",
                            "<tr><td>4380,8</td></tr>",
                            "<tr><td>3912,8</td></tr>",
                            "<tr><td>3389,6000000000004</td></tr>",
                            "<tr><td>2650,4</td></tr>",
                            "<tr><td>3890,4</td></tr>",
                            "<tr><td>4569,6</td></tr>",
                            "<tr><td>3516</td></tr>",
                            "<tr><td>4599,2</td></tr>",
                            "<tr><td>3248</td></tr>",
                            "<tr><td>4319,2</td></tr>",
                            "<tr><td>4161,6</td></tr>",
                            "<tr><td>2756,8</td></tr>",
                            "<tr><td>2876</td></tr>",
                            "<tr><td>4241,6</td></tr>",
                            "<tr><td>4619,2</td></tr>",
                            "<tr><td>3549,6000000000004</td></tr>",
                            "<tr><td>3315,2000000000003</td></tr>",
                            "<tr><td>4852</td></tr>",
                            "</table>"
                        ]
                    }
                }
            ],
            "execution_count": 18
        },
        {
            "cell_type": "markdown",
            "source": [
                "6. Melyek azok a kölcsönzések, ahol még nem hozták vissza a dvd-t?"
            ],
            "metadata": {
                "azdata_cell_guid": "5fe65c1c-2479-45ac-ad03-ec99d12eae21"
            },
            "attachments": {}
        },
        {
            "cell_type": "code",
            "source": [
                "SELECT *\r\n",
                "FROM dvd, kolcsonzesek\r\n",
                "WHERE dvd.ID = kolcsonzesek.ID\r\n",
                "AND kolcsonzesek.vissza_datum IS NULL"
            ],
            "metadata": {
                "azdata_cell_guid": "924f2dde-f1c2-4def-a7f9-dbf4bace7735",
                "language": "sql"
            },
            "outputs": [
                {
                    "output_type": "display_data",
                    "data": {
                        "text/html": "(3 rows affected)"
                    },
                    "metadata": {}
                },
                {
                    "output_type": "display_data",
                    "data": {
                        "text/html": "Total execution time: 00:00:00.027"
                    },
                    "metadata": {}
                },
                {
                    "output_type": "execute_result",
                    "metadata": {},
                    "execution_count": 19,
                    "data": {
                        "application/vnd.dataresource+json": {
                            "schema": {
                                "fields": [
                                    {
                                        "name": "ID"
                                    },
                                    {
                                        "name": "cim"
                                    },
                                    {
                                        "name": "stilus"
                                    },
                                    {
                                        "name": "szam"
                                    },
                                    {
                                        "name": "nettoar"
                                    },
                                    {
                                        "name": "lang"
                                    },
                                    {
                                        "name": "raktár készlet"
                                    },
                                    {
                                        "name": "ID"
                                    },
                                    {
                                        "name": "ki"
                                    },
                                    {
                                        "name": "mit"
                                    },
                                    {
                                        "name": "ki_datum"
                                    },
                                    {
                                        "name": "vissza_datum"
                                    }
                                ]
                            },
                            "data": [
                                {
                                    "ID": "10",
                                    "cim": "Airport Inc.",
                                    "stilus": "játék (repülős)",
                                    "szam": "11026",
                                    "nettoar": "4311",
                                    "lang": "2",
                                    "raktár készlet": "10",
                                    "ki": "3",
                                    "mit": "5",
                                    "ki_datum": "2003-12-11",
                                    "vissza_datum": "NULL"
                                },
                                {
                                    "ID": "11",
                                    "cim": "American Rodeo : BullRider 2000 (2001)",
                                    "stilus": "játék (rodeó)",
                                    "szam": "10067",
                                    "nettoar": "5591",
                                    "lang": "2",
                                    "raktár készlet": "10",
                                    "ki": "4",
                                    "mit": "2",
                                    "ki_datum": "2003-12-11",
                                    "vissza_datum": "NULL"
                                },
                                {
                                    "ID": "12",
                                    "cim": "Angol : 8-10 éveseknek (2002)",
                                    "stilus": "nyelvtanító",
                                    "szam": "13293",
                                    "nettoar": "4853",
                                    "lang": "2",
                                    "raktár készlet": "10",
                                    "ki": "5",
                                    "mit": "6",
                                    "ki_datum": "2003-12-11",
                                    "vissza_datum": "NULL"
                                }
                            ]
                        },
                        "text/html": [
                            "<table>",
                            "<tr><th>ID</th><th>cim</th><th>stilus</th><th>szam</th><th>nettoar</th><th>lang</th><th>raktár készlet</th><th>ID</th><th>ki</th><th>mit</th><th>ki_datum</th><th>vissza_datum</th></tr>",
                            "<tr><td>10</td><td>Airport Inc.</td><td>játék (repülős)</td><td>11026</td><td>4311</td><td>2</td><td>10</td><td>10</td><td>3</td><td>5</td><td>2003-12-11</td><td>NULL</td></tr>",
                            "<tr><td>11</td><td>American Rodeo : BullRider 2000 (2001)</td><td>játék (rodeó)</td><td>10067</td><td>5591</td><td>2</td><td>10</td><td>11</td><td>4</td><td>2</td><td>2003-12-11</td><td>NULL</td></tr>",
                            "<tr><td>12</td><td>Angol : 8-10 éveseknek (2002)</td><td>nyelvtanító</td><td>13293</td><td>4853</td><td>2</td><td>10</td><td>12</td><td>5</td><td>6</td><td>2003-12-11</td><td>NULL</td></tr>",
                            "</table>"
                        ]
                    }
                }
            ],
            "execution_count": 19
        },
        {
            "cell_type": "markdown",
            "source": [
                "7. Listázzuk azon diákok nevét és születési idejét, akik 1984-ben vagy 1985-ben születtek!  \n",
                "\n",
                "  \n",
                "\n",
                "a.  A születési dátum csak az évet, hónapot és a napot tartalmazza! \n",
                "\n",
                "b.  A születési dátum oszlopát nevezzük el 'Születési idő'-nek!"
            ],
            "metadata": {
                "azdata_cell_guid": "3aeb6bf5-b111-40d5-92b2-9712ce335696"
            },
            "attachments": {}
        },
        {
            "cell_type": "code",
            "source": [
                "SELECT diak.Nev, CAST(diak.Szulido AS date) AS 'Születési idő'\r\n",
                "FROM diak\r\n",
                "WHERE YEAR(diak.Szulido) = 1984 OR YEAR(diak.Szulido) = 1985"
            ],
            "metadata": {
                "azdata_cell_guid": "3e89b651-f56f-4102-af52-30eb2bbe360d",
                "language": "sql"
            },
            "outputs": [
                {
                    "output_type": "display_data",
                    "data": {
                        "text/html": "(3 rows affected)"
                    },
                    "metadata": {}
                },
                {
                    "output_type": "display_data",
                    "data": {
                        "text/html": "Total execution time: 00:00:00.009"
                    },
                    "metadata": {}
                },
                {
                    "output_type": "execute_result",
                    "metadata": {},
                    "execution_count": 31,
                    "data": {
                        "application/vnd.dataresource+json": {
                            "schema": {
                                "fields": [
                                    {
                                        "name": "Nev"
                                    },
                                    {
                                        "name": "Születési idő"
                                    }
                                ]
                            },
                            "data": [
                                {
                                    "Nev": "Kovács Imre",
                                    "Születési idő": "1984-03-02"
                                },
                                {
                                    "Nev": "Kapos Petra",
                                    "Születési idő": "1985-12-23"
                                },
                                {
                                    "Nev": "Koppány Olga",
                                    "Születési idő": "1984-02-28"
                                }
                            ]
                        },
                        "text/html": [
                            "<table>",
                            "<tr><th>Nev</th><th>Születési idő</th></tr>",
                            "<tr><td>Kovács Imre</td><td>1984-03-02</td></tr>",
                            "<tr><td>Kapos Petra</td><td>1985-12-23</td></tr>",
                            "<tr><td>Koppány Olga</td><td>1984-02-28</td></tr>",
                            "</table>"
                        ]
                    }
                }
            ],
            "execution_count": 31
        },
        {
            "cell_type": "markdown",
            "source": [
                "8. Készítsünk lekérdezést, amely a tanulók nevét és az ebből képzett felhasználói nevét tartalmazza. \n",
                "\n",
                "  \n",
                "\n",
                "a.  A felhasználói név álljon a név első kettő, illetve utolsó kettő betűjének összefűzéséből!\n",
                "\n",
                "b.  A listát szűrjük azon tanulókra, akik teljes neve - szóközzel együtt - legalább 10 betűs!"
            ],
            "metadata": {
                "azdata_cell_guid": "26a504dc-ff6a-439f-94c0-4580eca3eacf"
            },
            "attachments": {}
        },
        {
            "cell_type": "code",
            "source": [
                "SELECT diak.Nev, LEFT(diak.Nev,2)+RIGHT(diak.Nev,2)\r\n",
                "FROM diak\r\n",
                "WHERE LEN(diak.Nev) >=10"
            ],
            "metadata": {
                "azdata_cell_guid": "1cbb8aeb-78b5-4350-aa45-e3202fdab85b",
                "language": "sql"
            },
            "outputs": [
                {
                    "output_type": "display_data",
                    "data": {
                        "text/html": "(8 rows affected)"
                    },
                    "metadata": {}
                },
                {
                    "output_type": "display_data",
                    "data": {
                        "text/html": "Total execution time: 00:00:00.005"
                    },
                    "metadata": {}
                },
                {
                    "output_type": "execute_result",
                    "metadata": {},
                    "execution_count": 32,
                    "data": {
                        "application/vnd.dataresource+json": {
                            "schema": {
                                "fields": [
                                    {
                                        "name": "Nev"
                                    },
                                    {
                                        "name": "(No column name)"
                                    }
                                ]
                            },
                            "data": [
                                {
                                    "Nev": "Kovács Imre",
                                    "(No column name)": "Kore"
                                },
                                {
                                    "Nev": "Horváth Emil",
                                    "(No column name)": "Hoil"
                                },
                                {
                                    "Nev": "Kapos Petra",
                                    "(No column name)": "Kara"
                                },
                                {
                                    "Nev": "Csóka Anna",
                                    "(No column name)": "Csna"
                                },
                                {
                                    "Nev": "Nyúl Tamás",
                                    "(No column name)": "Nyás"
                                },
                                {
                                    "Nev": "Ordasi Emma",
                                    "(No column name)": "Orma"
                                },
                                {
                                    "Nev": "Koppány Olga",
                                    "(No column name)": "Koga"
                                },
                                {
                                    "Nev": "Kozma Patrícia",
                                    "(No column name)": "Koia"
                                }
                            ]
                        },
                        "text/html": [
                            "<table>",
                            "<tr><th>Nev</th><th>(No column name)</th></tr>",
                            "<tr><td>Kovács Imre</td><td>Kore</td></tr>",
                            "<tr><td>Horváth Emil</td><td>Hoil</td></tr>",
                            "<tr><td>Kapos Petra</td><td>Kara</td></tr>",
                            "<tr><td>Csóka Anna</td><td>Csna</td></tr>",
                            "<tr><td>Nyúl Tamás</td><td>Nyás</td></tr>",
                            "<tr><td>Ordasi Emma</td><td>Orma</td></tr>",
                            "<tr><td>Koppány Olga</td><td>Koga</td></tr>",
                            "<tr><td>Kozma Patrícia</td><td>Koia</td></tr>",
                            "</table>"
                        ]
                    }
                }
            ],
            "execution_count": 32
        },
        {
            "cell_type": "markdown",
            "source": [
                "9. Készítsünk listát a diákok adatairól, ahol a diákok neve úgy jelenik meg, hogy először a keresztnév, majd a vezetéknév, közöttük szóközzel!  \n",
                "\n",
                "a.  Ezen felül a születési idő három külön oszlopban jelenjen meg (év, hónap, nap). \n",
                "\n",
                "b.  Az oszlopokat nevezzük el értelemszerűen!"
            ],
            "metadata": {
                "azdata_cell_guid": "435e2860-2dd5-4877-90f4-34a43baeb53c"
            },
            "attachments": {}
        },
        {
            "cell_type": "code",
            "source": [
                "SELECT diak.DiakAz, LEFT(diak.Nev,CHARINDEX(' ',diak.Nev)-1)+' '+RIGHT(diak.Nev,CHARINDEX(' ',diak.Nev)+1), YEAR(diak.Szulido), MONTH(diak.Szulido), DAY(diak.Szulido)\r\n",
                "FROM diak\r\n",
                "\r\n",
                ""
            ],
            "metadata": {
                "azdata_cell_guid": "ce846351-ddbe-4d8e-b8fb-2a92c73ac80b",
                "language": "sql"
            },
            "outputs": [
                {
                    "output_type": "display_data",
                    "data": {
                        "text/html": "(10 rows affected)"
                    },
                    "metadata": {}
                },
                {
                    "output_type": "display_data",
                    "data": {
                        "text/html": "Total execution time: 00:00:00.007"
                    },
                    "metadata": {}
                },
                {
                    "output_type": "execute_result",
                    "metadata": {},
                    "execution_count": 52,
                    "data": {
                        "application/vnd.dataresource+json": {
                            "schema": {
                                "fields": [
                                    {
                                        "name": "DiakAz"
                                    },
                                    {
                                        "name": "(No column name)"
                                    },
                                    {
                                        "name": "(No column name)"
                                    },
                                    {
                                        "name": "(No column name)"
                                    },
                                    {
                                        "name": "(No column name)"
                                    }
                                ]
                            },
                            "data": [
                                {
                                    "DiakAz": "1",
                                    "(No column name)": "5"
                                },
                                {
                                    "DiakAz": "2",
                                    "(No column name)": "5"
                                },
                                {
                                    "DiakAz": "3",
                                    "(No column name)": "2"
                                },
                                {
                                    "DiakAz": "4",
                                    "(No column name)": "2"
                                },
                                {
                                    "DiakAz": "5",
                                    "(No column name)": "23"
                                },
                                {
                                    "DiakAz": "6",
                                    "(No column name)": "30"
                                },
                                {
                                    "DiakAz": "7",
                                    "(No column name)": "16"
                                },
                                {
                                    "DiakAz": "8",
                                    "(No column name)": "3"
                                },
                                {
                                    "DiakAz": "9",
                                    "(No column name)": "28"
                                },
                                {
                                    "DiakAz": "10",
                                    "(No column name)": "1"
                                }
                            ]
                        },
                        "text/html": [
                            "<table>",
                            "<tr><th>DiakAz</th><th>(No column name)</th><th>(No column name)</th><th>(No column name)</th><th>(No column name)</th></tr>",
                            "<tr><td>1</td><td>Kos Péter</td><td>1987</td><td>11</td><td>5</td></tr>",
                            "<tr><td>2</td><td>Port t Imre</td><td>1990</td><td>5</td><td>5</td></tr>",
                            "<tr><td>3</td><td>Kovács ács Imre</td><td>1984</td><td>3</td><td>2</td></tr>",
                            "<tr><td>4</td><td>Horváth váth Emil</td><td>1988</td><td>5</td><td>2</td></tr>",
                            "<tr><td>5</td><td>Kapos s Petra</td><td>1985</td><td>12</td><td>23</td></tr>",
                            "<tr><td>6</td><td>Csóka ka Anna</td><td>1981</td><td>11</td><td>30</td></tr>",
                            "<tr><td>7</td><td>Nyúl  Tamás</td><td>1988</td><td>2</td><td>16</td></tr>",
                            "<tr><td>8</td><td>Ordasi asi Emma</td><td>1989</td><td>1</td><td>3</td></tr>",
                            "<tr><td>9</td><td>Koppány pány Olga</td><td>1984</td><td>2</td><td>28</td></tr>",
                            "<tr><td>10</td><td>Kozma atrícia</td><td>1983</td><td>6</td><td>1</td></tr>",
                            "</table>"
                        ]
                    }
                }
            ],
            "execution_count": 52
        },
        {
            "cell_type": "markdown",
            "source": [
                "10. Készítsünk listát a munkák azonosítójáról és megnevezéséről! Egy új oszlopban azt is jelenítsük meg, hogy melyik munka hetente mennyit fizet! \n",
                "\n",
                "a.  Az oszlop neve legyen Heti bér, az értéket kerekítsük 1000 forintra! \n",
                "\n",
                "b.  A listát szűrjük azon rekordokra, ahol a kerekített heti bér 10000 Ft felett van!"
            ],
            "metadata": {
                "azdata_cell_guid": "217c5772-afe2-4a7c-b913-e3a3e09d6411"
            },
            "attachments": {}
        },
        {
            "cell_type": "code",
            "source": [
                "SELECT munka.munkaId, munka.allas, ROUND(munka.oradij*munka.oraszam*5,1000) AS 'hetiber'\r\n",
                "FROM munka\r\n",
                "WHERE ROUND(munka.oradij*munka.oraszam*5,1000) > 10000"
            ],
            "metadata": {
                "azdata_cell_guid": "a9cc0926-3dbd-4ed8-8179-1c39d64a0762",
                "language": "sql"
            },
            "outputs": [
                {
                    "output_type": "display_data",
                    "data": {
                        "text/html": "(7 rows affected)"
                    },
                    "metadata": {}
                },
                {
                    "output_type": "display_data",
                    "data": {
                        "text/html": "Total execution time: 00:00:00.007"
                    },
                    "metadata": {}
                },
                {
                    "output_type": "execute_result",
                    "metadata": {},
                    "execution_count": 37,
                    "data": {
                        "application/vnd.dataresource+json": {
                            "schema": {
                                "fields": [
                                    {
                                        "name": "munkaId"
                                    },
                                    {
                                        "name": "allas"
                                    },
                                    {
                                        "name": "hetiber"
                                    }
                                ]
                            },
                            "data": [
                                {
                                    "munkaId": "5",
                                    "allas": "kézbesítő",
                                    "hetiber": "13500"
                                },
                                {
                                    "munkaId": "7",
                                    "allas": "eladó",
                                    "hetiber": "12000"
                                },
                                {
                                    "munkaId": "16",
                                    "allas": "pincér",
                                    "hetiber": "13500"
                                },
                                {
                                    "munkaId": "17",
                                    "allas": "pincér",
                                    "hetiber": "13500"
                                },
                                {
                                    "munkaId": "20",
                                    "allas": "takarító",
                                    "hetiber": "10500"
                                },
                                {
                                    "munkaId": "21",
                                    "allas": "takarító",
                                    "hetiber": "10500"
                                },
                                {
                                    "munkaId": "41",
                                    "allas": "eladó",
                                    "hetiber": "12000"
                                }
                            ]
                        },
                        "text/html": [
                            "<table>",
                            "<tr><th>munkaId</th><th>allas</th><th>hetiber</th></tr>",
                            "<tr><td>5</td><td>kézbesítő</td><td>13500</td></tr>",
                            "<tr><td>7</td><td>eladó</td><td>12000</td></tr>",
                            "<tr><td>16</td><td>pincér</td><td>13500</td></tr>",
                            "<tr><td>17</td><td>pincér</td><td>13500</td></tr>",
                            "<tr><td>20</td><td>takarító</td><td>10500</td></tr>",
                            "<tr><td>21</td><td>takarító</td><td>10500</td></tr>",
                            "<tr><td>41</td><td>eladó</td><td>12000</td></tr>",
                            "</table>"
                        ]
                    }
                }
            ],
            "execution_count": 37
        },
        {
            "cell_type": "markdown",
            "source": [
                "11. A diákok számára differenciált béremelést terveznek: a középiskolások esetében 33%, egyéb esetben 17% mértékben. Készítsünk listát, amely tartalmazza a munkák azonosítóját, az állás nevét, az eredeti óradíjat és a tervezett emelt óradíjat.\n",
                "\n",
                "  \n",
                "\n",
                "a.  Az oszlopoknak adjuk nevet értelemszerűen!\n",
                "\n",
                "b.  Az emelt óradíj összegét kerekítsük egészre! (Az esetlegesen megjelenő 0 tizedesjegyekkel ne foglalkozzunk)"
            ],
            "metadata": {
                "azdata_cell_guid": "d2340f5f-1614-473c-b937-85740d67f7c1"
            },
            "attachments": {}
        },
        {
            "cell_type": "code",
            "source": [
                ""
            ],
            "metadata": {
                "azdata_cell_guid": "e99c2c53-898f-4787-b0e6-182d106dc16f",
                "language": "sql"
            },
            "outputs": [],
            "execution_count": null
        },
        {
            "cell_type": "markdown",
            "source": [
                "12. A diákok számára próbaidőt írnak elő, amely a munka kezdetétől számítva 3 hónapig tart.    Jelenítsük meg a munka tábla adatait egy új oszloppal kiegészítve, amelyik a próbaidő    végének dátumát mutatja!  \n",
                "\n",
                "  \n",
                "\n",
                "a.  Az oszlop neve Próbaidő vége legyen! \n",
                "\n",
                "b.  A lista ne tartalmazza azokat a munkákat, ahol a diákok azonosítója nincs megadva!"
            ],
            "metadata": {
                "azdata_cell_guid": "a765e9d6-58b3-4171-872a-78f3118fd6e3"
            },
            "attachments": {}
        },
        {
            "cell_type": "code",
            "source": [
                "SELECT *, DATEADD(MONTH, 3, munka.datum) AS 'Próbaidő'\r\n",
                "FROM munka\r\n",
                "WHERE munka.DiakAz IS NOT NULL"
            ],
            "metadata": {
                "azdata_cell_guid": "422e8127-b652-4d3a-bfd7-9b1637b5781e",
                "language": "sql"
            },
            "outputs": [
                {
                    "output_type": "display_data",
                    "data": {
                        "text/html": "(31 rows affected)"
                    },
                    "metadata": {}
                },
                {
                    "output_type": "display_data",
                    "data": {
                        "text/html": "Total execution time: 00:00:00.021"
                    },
                    "metadata": {}
                },
                {
                    "output_type": "execute_result",
                    "metadata": {},
                    "execution_count": 53,
                    "data": {
                        "application/vnd.dataresource+json": {
                            "schema": {
                                "fields": [
                                    {
                                        "name": "munkaId"
                                    },
                                    {
                                        "name": "MhelyId"
                                    },
                                    {
                                        "name": "DiakAz"
                                    },
                                    {
                                        "name": "allas"
                                    },
                                    {
                                        "name": "datum"
                                    },
                                    {
                                        "name": "oradij"
                                    },
                                    {
                                        "name": "oraszam"
                                    },
                                    {
                                        "name": "kozepiskolas"
                                    },
                                    {
                                        "name": "Próbaidő"
                                    }
                                ]
                            },
                            "data": [
                                {
                                    "munkaId": "1",
                                    "MhelyId": "1",
                                    "DiakAz": "1",
                                    "allas": "kézbesítő",
                                    "datum": "2003-07-02 00:00:00.000",
                                    "oradij": "400",
                                    "oraszam": "4",
                                    "kozepiskolas": "0",
                                    "Próbaidő": "2003-10-02 00:00:00.000"
                                },
                                {
                                    "munkaId": "2",
                                    "MhelyId": "1",
                                    "DiakAz": "2",
                                    "allas": "ügyfélszolgálati munkatárs",
                                    "datum": "2003-07-03 00:00:00.000",
                                    "oradij": "300",
                                    "oraszam": "4",
                                    "kozepiskolas": "0",
                                    "Próbaidő": "2003-10-03 00:00:00.000"
                                },
                                {
                                    "munkaId": "3",
                                    "MhelyId": "2",
                                    "DiakAz": "1",
                                    "allas": "kisegítő",
                                    "datum": "2003-07-01 00:00:00.000",
                                    "oradij": "500",
                                    "oraszam": "4",
                                    "kozepiskolas": "1",
                                    "Próbaidő": "2003-10-01 00:00:00.000"
                                },
                                {
                                    "munkaId": "4",
                                    "MhelyId": "2",
                                    "DiakAz": "2",
                                    "allas": "eladó",
                                    "datum": "2003-07-01 00:00:00.000",
                                    "oradij": "350",
                                    "oraszam": "4",
                                    "kozepiskolas": "0",
                                    "Próbaidő": "2003-10-01 00:00:00.000"
                                },
                                {
                                    "munkaId": "5",
                                    "MhelyId": "1",
                                    "DiakAz": "1",
                                    "allas": "kézbesítő",
                                    "datum": "2003-07-03 00:00:00.000",
                                    "oradij": "450",
                                    "oraszam": "6",
                                    "kozepiskolas": "0",
                                    "Próbaidő": "2003-10-03 00:00:00.000"
                                },
                                {
                                    "munkaId": "6",
                                    "MhelyId": "1",
                                    "DiakAz": "2",
                                    "allas": "futár",
                                    "datum": "2003-07-06 00:00:00.000",
                                    "oradij": "300",
                                    "oraszam": "5",
                                    "kozepiskolas": "1",
                                    "Próbaidő": "2003-10-06 00:00:00.000"
                                },
                                {
                                    "munkaId": "9",
                                    "MhelyId": "9",
                                    "DiakAz": "6",
                                    "allas": "takarító",
                                    "datum": "2003-06-19 00:00:00.000",
                                    "oradij": "400",
                                    "oraszam": "4",
                                    "kozepiskolas": "0",
                                    "Próbaidő": "2003-09-19 00:00:00.000"
                                },
                                {
                                    "munkaId": "10",
                                    "MhelyId": "9",
                                    "DiakAz": "6",
                                    "allas": "takarító",
                                    "datum": "2003-06-20 00:00:00.000",
                                    "oradij": "400",
                                    "oraszam": "4",
                                    "kozepiskolas": "0",
                                    "Próbaidő": "2003-09-20 00:00:00.000"
                                },
                                {
                                    "munkaId": "11",
                                    "MhelyId": "9",
                                    "DiakAz": "8",
                                    "allas": "kisegítő",
                                    "datum": "2003-06-21 00:00:00.000",
                                    "oradij": "300",
                                    "oraszam": "6",
                                    "kozepiskolas": "1",
                                    "Próbaidő": "2003-09-21 00:00:00.000"
                                },
                                {
                                    "munkaId": "12",
                                    "MhelyId": "9",
                                    "DiakAz": "8",
                                    "allas": "kisegítő",
                                    "datum": "2003-06-22 00:00:00.000",
                                    "oradij": "300",
                                    "oraszam": "6",
                                    "kozepiskolas": "1",
                                    "Próbaidő": "2003-09-22 00:00:00.000"
                                },
                                {
                                    "munkaId": "13",
                                    "MhelyId": "9",
                                    "DiakAz": "6",
                                    "allas": "takarító",
                                    "datum": "2003-06-23 00:00:00.000",
                                    "oradij": "400",
                                    "oraszam": "4",
                                    "kozepiskolas": "0",
                                    "Próbaidő": "2003-09-23 00:00:00.000"
                                },
                                {
                                    "munkaId": "14",
                                    "MhelyId": "6",
                                    "DiakAz": "4",
                                    "allas": "ruhatáros",
                                    "datum": "2003-09-11 00:00:00.000",
                                    "oradij": "400",
                                    "oraszam": "4",
                                    "kozepiskolas": "0",
                                    "Próbaidő": "2003-12-11 00:00:00.000"
                                },
                                {
                                    "munkaId": "15",
                                    "MhelyId": "6",
                                    "DiakAz": "7",
                                    "allas": "ruhatáros",
                                    "datum": "2003-09-11 00:00:00.000",
                                    "oradij": "400",
                                    "oraszam": "4",
                                    "kozepiskolas": "0",
                                    "Próbaidő": "2003-12-11 00:00:00.000"
                                },
                                {
                                    "munkaId": "16",
                                    "MhelyId": "6",
                                    "DiakAz": "5",
                                    "allas": "pincér",
                                    "datum": "2003-06-11 00:00:00.000",
                                    "oradij": "450",
                                    "oraszam": "6",
                                    "kozepiskolas": "0",
                                    "Próbaidő": "2003-09-11 00:00:00.000"
                                },
                                {
                                    "munkaId": "17",
                                    "MhelyId": "6",
                                    "DiakAz": "5",
                                    "allas": "pincér",
                                    "datum": "2003-06-12 00:00:00.000",
                                    "oradij": "450",
                                    "oraszam": "6",
                                    "kozepiskolas": "0",
                                    "Próbaidő": "2003-09-12 00:00:00.000"
                                },
                                {
                                    "munkaId": "18",
                                    "MhelyId": "8",
                                    "DiakAz": "9",
                                    "allas": "eladó",
                                    "datum": "2003-07-21 00:00:00.000",
                                    "oradij": "500",
                                    "oraszam": "4",
                                    "kozepiskolas": "0",
                                    "Próbaidő": "2003-10-21 00:00:00.000"
                                },
                                {
                                    "munkaId": "19",
                                    "MhelyId": "8",
                                    "DiakAz": "9",
                                    "allas": "eladó",
                                    "datum": "2003-07-22 00:00:00.000",
                                    "oradij": "500",
                                    "oraszam": "4",
                                    "kozepiskolas": "0",
                                    "Próbaidő": "2003-10-22 00:00:00.000"
                                },
                                {
                                    "munkaId": "20",
                                    "MhelyId": "8",
                                    "DiakAz": "10",
                                    "allas": "takarító",
                                    "datum": "2003-08-10 00:00:00.000",
                                    "oradij": "350",
                                    "oraszam": "6",
                                    "kozepiskolas": "1",
                                    "Próbaidő": "2003-11-10 00:00:00.000"
                                },
                                {
                                    "munkaId": "21",
                                    "MhelyId": "8",
                                    "DiakAz": "10",
                                    "allas": "takarító",
                                    "datum": "2003-08-11 00:00:00.000",
                                    "oradij": "350",
                                    "oraszam": "6",
                                    "kozepiskolas": "1",
                                    "Próbaidő": "2003-11-11 00:00:00.000"
                                },
                                {
                                    "munkaId": "22",
                                    "MhelyId": "11",
                                    "DiakAz": "5",
                                    "allas": "eladó",
                                    "datum": "2003-05-10 00:00:00.000",
                                    "oradij": "400",
                                    "oraszam": "4",
                                    "kozepiskolas": "0",
                                    "Próbaidő": "2003-08-10 00:00:00.000"
                                },
                                {
                                    "munkaId": "23",
                                    "MhelyId": "11",
                                    "DiakAz": "6",
                                    "allas": "raktáros",
                                    "datum": "2003-05-20 00:00:00.000",
                                    "oradij": "300",
                                    "oraszam": "4",
                                    "kozepiskolas": "0",
                                    "Próbaidő": "2003-08-20 00:00:00.000"
                                },
                                {
                                    "munkaId": "24",
                                    "MhelyId": "11",
                                    "DiakAz": "5",
                                    "allas": "eladó",
                                    "datum": "2003-06-23 00:00:00.000",
                                    "oradij": "300",
                                    "oraszam": "6",
                                    "kozepiskolas": "0",
                                    "Próbaidő": "2003-09-23 00:00:00.000"
                                },
                                {
                                    "munkaId": "27",
                                    "MhelyId": "10",
                                    "DiakAz": "3",
                                    "allas": "takarító",
                                    "datum": "2003-07-31 00:00:00.000",
                                    "oradij": "300",
                                    "oraszam": "4",
                                    "kozepiskolas": "1",
                                    "Próbaidő": "2003-10-31 00:00:00.000"
                                },
                                {
                                    "munkaId": "28",
                                    "MhelyId": "10",
                                    "DiakAz": "3",
                                    "allas": "takarító",
                                    "datum": "2003-08-01 00:00:00.000",
                                    "oradij": "300",
                                    "oraszam": "4",
                                    "kozepiskolas": "1",
                                    "Próbaidő": "2003-11-01 00:00:00.000"
                                },
                                {
                                    "munkaId": "29",
                                    "MhelyId": "10",
                                    "DiakAz": "8",
                                    "allas": "eladó",
                                    "datum": "2003-09-12 00:00:00.000",
                                    "oradij": "300",
                                    "oraszam": "6",
                                    "kozepiskolas": "1",
                                    "Próbaidő": "2003-12-12 00:00:00.000"
                                },
                                {
                                    "munkaId": "30",
                                    "MhelyId": "10",
                                    "DiakAz": "8",
                                    "allas": "eladó",
                                    "datum": "2003-09-13 00:00:00.000",
                                    "oradij": "300",
                                    "oraszam": "6",
                                    "kozepiskolas": "1",
                                    "Próbaidő": "2003-12-13 00:00:00.000"
                                },
                                {
                                    "munkaId": "31",
                                    "MhelyId": "7",
                                    "DiakAz": "8",
                                    "allas": "ruhatáros",
                                    "datum": "2003-08-20 00:00:00.000",
                                    "oradij": "200",
                                    "oraszam": "4",
                                    "kozepiskolas": "1",
                                    "Próbaidő": "2003-11-20 00:00:00.000"
                                },
                                {
                                    "munkaId": "32",
                                    "MhelyId": "7",
                                    "DiakAz": "8",
                                    "allas": "ruhatáros",
                                    "datum": "2003-08-21 00:00:00.000",
                                    "oradij": "200",
                                    "oraszam": "4",
                                    "kozepiskolas": "1",
                                    "Próbaidő": "2003-11-21 00:00:00.000"
                                },
                                {
                                    "munkaId": "38",
                                    "MhelyId": "5",
                                    "DiakAz": "7",
                                    "allas": "eladó",
                                    "datum": "2003-06-05 00:00:00.000",
                                    "oradij": "400",
                                    "oraszam": "4",
                                    "kozepiskolas": "0",
                                    "Próbaidő": "2003-09-05 00:00:00.000"
                                },
                                {
                                    "munkaId": "39",
                                    "MhelyId": "5",
                                    "DiakAz": "7",
                                    "allas": "eladó",
                                    "datum": "2003-06-06 00:00:00.000",
                                    "oradij": "400",
                                    "oraszam": "4",
                                    "kozepiskolas": "0",
                                    "Próbaidő": "2003-09-06 00:00:00.000"
                                },
                                {
                                    "munkaId": "40",
                                    "MhelyId": "5",
                                    "DiakAz": "7",
                                    "allas": "eladó",
                                    "datum": "2003-06-07 00:00:00.000",
                                    "oradij": "400",
                                    "oraszam": "4",
                                    "kozepiskolas": "0",
                                    "Próbaidő": "2003-09-07 00:00:00.000"
                                }
                            ]
                        },
                        "text/html": [
                            "<table>",
                            "<tr><th>munkaId</th><th>MhelyId</th><th>DiakAz</th><th>allas</th><th>datum</th><th>oradij</th><th>oraszam</th><th>kozepiskolas</th><th>Próbaidő</th></tr>",
                            "<tr><td>1</td><td>1</td><td>1</td><td>kézbesítő</td><td>2003-07-02 00:00:00.000</td><td>400</td><td>4</td><td>0</td><td>2003-10-02 00:00:00.000</td></tr>",
                            "<tr><td>2</td><td>1</td><td>2</td><td>ügyfélszolgálati munkatárs</td><td>2003-07-03 00:00:00.000</td><td>300</td><td>4</td><td>0</td><td>2003-10-03 00:00:00.000</td></tr>",
                            "<tr><td>3</td><td>2</td><td>1</td><td>kisegítő</td><td>2003-07-01 00:00:00.000</td><td>500</td><td>4</td><td>1</td><td>2003-10-01 00:00:00.000</td></tr>",
                            "<tr><td>4</td><td>2</td><td>2</td><td>eladó</td><td>2003-07-01 00:00:00.000</td><td>350</td><td>4</td><td>0</td><td>2003-10-01 00:00:00.000</td></tr>",
                            "<tr><td>5</td><td>1</td><td>1</td><td>kézbesítő</td><td>2003-07-03 00:00:00.000</td><td>450</td><td>6</td><td>0</td><td>2003-10-03 00:00:00.000</td></tr>",
                            "<tr><td>6</td><td>1</td><td>2</td><td>futár</td><td>2003-07-06 00:00:00.000</td><td>300</td><td>5</td><td>1</td><td>2003-10-06 00:00:00.000</td></tr>",
                            "<tr><td>9</td><td>9</td><td>6</td><td>takarító</td><td>2003-06-19 00:00:00.000</td><td>400</td><td>4</td><td>0</td><td>2003-09-19 00:00:00.000</td></tr>",
                            "<tr><td>10</td><td>9</td><td>6</td><td>takarító</td><td>2003-06-20 00:00:00.000</td><td>400</td><td>4</td><td>0</td><td>2003-09-20 00:00:00.000</td></tr>",
                            "<tr><td>11</td><td>9</td><td>8</td><td>kisegítő</td><td>2003-06-21 00:00:00.000</td><td>300</td><td>6</td><td>1</td><td>2003-09-21 00:00:00.000</td></tr>",
                            "<tr><td>12</td><td>9</td><td>8</td><td>kisegítő</td><td>2003-06-22 00:00:00.000</td><td>300</td><td>6</td><td>1</td><td>2003-09-22 00:00:00.000</td></tr>",
                            "<tr><td>13</td><td>9</td><td>6</td><td>takarító</td><td>2003-06-23 00:00:00.000</td><td>400</td><td>4</td><td>0</td><td>2003-09-23 00:00:00.000</td></tr>",
                            "<tr><td>14</td><td>6</td><td>4</td><td>ruhatáros</td><td>2003-09-11 00:00:00.000</td><td>400</td><td>4</td><td>0</td><td>2003-12-11 00:00:00.000</td></tr>",
                            "<tr><td>15</td><td>6</td><td>7</td><td>ruhatáros</td><td>2003-09-11 00:00:00.000</td><td>400</td><td>4</td><td>0</td><td>2003-12-11 00:00:00.000</td></tr>",
                            "<tr><td>16</td><td>6</td><td>5</td><td>pincér</td><td>2003-06-11 00:00:00.000</td><td>450</td><td>6</td><td>0</td><td>2003-09-11 00:00:00.000</td></tr>",
                            "<tr><td>17</td><td>6</td><td>5</td><td>pincér</td><td>2003-06-12 00:00:00.000</td><td>450</td><td>6</td><td>0</td><td>2003-09-12 00:00:00.000</td></tr>",
                            "<tr><td>18</td><td>8</td><td>9</td><td>eladó</td><td>2003-07-21 00:00:00.000</td><td>500</td><td>4</td><td>0</td><td>2003-10-21 00:00:00.000</td></tr>",
                            "<tr><td>19</td><td>8</td><td>9</td><td>eladó</td><td>2003-07-22 00:00:00.000</td><td>500</td><td>4</td><td>0</td><td>2003-10-22 00:00:00.000</td></tr>",
                            "<tr><td>20</td><td>8</td><td>10</td><td>takarító</td><td>2003-08-10 00:00:00.000</td><td>350</td><td>6</td><td>1</td><td>2003-11-10 00:00:00.000</td></tr>",
                            "<tr><td>21</td><td>8</td><td>10</td><td>takarító</td><td>2003-08-11 00:00:00.000</td><td>350</td><td>6</td><td>1</td><td>2003-11-11 00:00:00.000</td></tr>",
                            "<tr><td>22</td><td>11</td><td>5</td><td>eladó</td><td>2003-05-10 00:00:00.000</td><td>400</td><td>4</td><td>0</td><td>2003-08-10 00:00:00.000</td></tr>",
                            "<tr><td>23</td><td>11</td><td>6</td><td>raktáros</td><td>2003-05-20 00:00:00.000</td><td>300</td><td>4</td><td>0</td><td>2003-08-20 00:00:00.000</td></tr>",
                            "<tr><td>24</td><td>11</td><td>5</td><td>eladó</td><td>2003-06-23 00:00:00.000</td><td>300</td><td>6</td><td>0</td><td>2003-09-23 00:00:00.000</td></tr>",
                            "<tr><td>27</td><td>10</td><td>3</td><td>takarító</td><td>2003-07-31 00:00:00.000</td><td>300</td><td>4</td><td>1</td><td>2003-10-31 00:00:00.000</td></tr>",
                            "<tr><td>28</td><td>10</td><td>3</td><td>takarító</td><td>2003-08-01 00:00:00.000</td><td>300</td><td>4</td><td>1</td><td>2003-11-01 00:00:00.000</td></tr>",
                            "<tr><td>29</td><td>10</td><td>8</td><td>eladó</td><td>2003-09-12 00:00:00.000</td><td>300</td><td>6</td><td>1</td><td>2003-12-12 00:00:00.000</td></tr>",
                            "<tr><td>30</td><td>10</td><td>8</td><td>eladó</td><td>2003-09-13 00:00:00.000</td><td>300</td><td>6</td><td>1</td><td>2003-12-13 00:00:00.000</td></tr>",
                            "<tr><td>31</td><td>7</td><td>8</td><td>ruhatáros</td><td>2003-08-20 00:00:00.000</td><td>200</td><td>4</td><td>1</td><td>2003-11-20 00:00:00.000</td></tr>",
                            "<tr><td>32</td><td>7</td><td>8</td><td>ruhatáros</td><td>2003-08-21 00:00:00.000</td><td>200</td><td>4</td><td>1</td><td>2003-11-21 00:00:00.000</td></tr>",
                            "<tr><td>38</td><td>5</td><td>7</td><td>eladó</td><td>2003-06-05 00:00:00.000</td><td>400</td><td>4</td><td>0</td><td>2003-09-05 00:00:00.000</td></tr>",
                            "<tr><td>39</td><td>5</td><td>7</td><td>eladó</td><td>2003-06-06 00:00:00.000</td><td>400</td><td>4</td><td>0</td><td>2003-09-06 00:00:00.000</td></tr>",
                            "<tr><td>40</td><td>5</td><td>7</td><td>eladó</td><td>2003-06-07 00:00:00.000</td><td>400</td><td>4</td><td>0</td><td>2003-09-07 00:00:00.000</td></tr>",
                            "</table>"
                        ]
                    }
                }
            ],
            "execution_count": 53
        },
        {
            "cell_type": "markdown",
            "source": [
                "13. Készítsünk listát a munkák azonosítóiról és a megnevezésükről! A megnevezés allas-óraszám formában jelenjen meg, pl: eladó-4. \n",
                "\n",
                "  \n",
                "\n",
                "a.  Jelenítsük meg a dátumot is, de csak a évet és a hónapot, pl: 2003-07! \n",
                "\n",
                "b.  Ennek az oszlopnak 'Kezdés hónapja' legyen a neve! A listát szűrjük a nyári hónapokra!"
            ],
            "metadata": {
                "azdata_cell_guid": "3f9237ae-f109-401c-acb9-31d75e73331b"
            },
            "attachments": {}
        },
        {
            "cell_type": "code",
            "source": [
                ""
            ],
            "metadata": {
                "azdata_cell_guid": "4b31bb89-cfbc-46b1-8639-85c462877786",
                "language": "sql"
            },
            "outputs": [],
            "execution_count": null
        },
        {
            "cell_type": "markdown",
            "source": [
                "14. Készítsünk listát a diákok adatairól, amely a Nev oszlop helyén a diák monogramját jeleníti meg (keresztnév, illetve vezetéknév első betűje összefűzve). \n",
                "\n",
                "a.  A listát szűrjük 1983.01.01 és 1987.06.01 között született diákokra!"
            ],
            "metadata": {
                "azdata_cell_guid": "f634e09a-85ef-4e70-8ec6-ef355dfddaa7"
            },
            "attachments": {}
        },
        {
            "cell_type": "code",
            "source": [
                ""
            ],
            "metadata": {
                "azdata_cell_guid": "88abc55b-2c78-495b-a72f-3f8f4eb5fe70",
                "language": "sql"
            },
            "outputs": [],
            "execution_count": null
        },
        {
            "cell_type": "markdown",
            "source": [
                "15. A diákok a munkakezdés évének utolsó napján bónuszt kapnak, amennyiben az adott évben legalább 6 hónapot dolgoznak. \n",
                "\n",
                "  \n",
                "\n",
                "a.  Jelenítsük meg, hogy az egyes munkák adatait, egy új oszlopban az éves bónusz napját is 'Bónusz dátum' néven! \n",
                "\n",
                "b.  A lista csak a bónuszra jogosultak adatait tartalmazza!"
            ],
            "metadata": {
                "azdata_cell_guid": "4cbf2f0d-a65d-480a-8186-ccdb24498443"
            },
            "attachments": {}
        },
        {
            "cell_type": "code",
            "source": [
                ""
            ],
            "metadata": {
                "azdata_cell_guid": "c148aee8-bc85-40bf-b80a-a4898a6c05cb",
                "language": "sql"
            },
            "outputs": [],
            "execution_count": null
        }
    ]
}